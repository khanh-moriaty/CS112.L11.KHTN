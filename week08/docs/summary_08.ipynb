{
  "nbformat": 4,
  "nbformat_minor": 0,
  "metadata": {
    "kernelspec": {
      "display_name": "Python 3",
      "language": "python",
      "name": "python3"
    },
    "language_info": {
      "codemirror_mode": {
        "name": "ipython",
        "version": 2
      },
      "file_extension": ".py",
      "mimetype": "text/x-python",
      "name": "python",
      "nbconvert_exporter": "python",
      "pygments_lexer": "ipython2",
      "version": "2.7.6"
    },
    "colab": {
      "name": "summary_04.ipynb",
      "provenance": [],
      "collapsed_sections": []
    }
  },
  "cells": [
    {
      "cell_type": "markdown",
      "metadata": {
        "collapsed": false,
        "id": "9X430finLgLb"
      },
      "source": [
        "## **Tóm tắt bài giảng buổi học 5-11-2020**\n",
        "**Tóm tắt**\n",
        "- Trước buổi báo cáo seminar, cả lớp cùng làm Wecode\n",
        "- Seminar tuần này báo cáo về thuật toán Backtracking\n",
        "- Cùng nhau đặt câu hỏi\n",
        "- Thầy Sơn phê bình nhóm báo cáo\n",
        "\n",
        "** Ghi chú**\n",
        "- Đặt câu hỏi đã tiến bộ hơn các tuần trước\n",
        "- Thuyết trình không nên đọc lại những gì đã viết slide\n",
        "- Có thể dùng bảng phụ để trình bày thêm một số ý, không nên dành phần lớn thời gian trên bảng phụ ấy vì đều đó đồng nghĩa slide thiếu\n",
        "\n",
        "**Thảo luận**\n",
        "- Cố gắng trả lời các câu hỏi có thể trong tập các câu hỏi trên lớp\n",
        "\n"
      ]
    }
  ]
}