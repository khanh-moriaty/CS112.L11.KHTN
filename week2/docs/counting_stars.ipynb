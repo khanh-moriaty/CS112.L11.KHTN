{
  "nbformat": 4,
  "nbformat_minor": 0,
  "metadata": {
    "colab": {
      "name": "counting_stars.ipynb",
      "provenance": [],
      "collapsed_sections": []
    },
    "kernelspec": {
      "name": "python3",
      "display_name": "Python 3"
    },
    "accelerator": "CPU"
  },
  "cells": [
    {
      "cell_type": "markdown",
      "metadata": {
        "id": "wl8OUliDpTzO",
        "colab_type": "text"
      },
      "source": [
        "# **Đếm Sao**\n",
        "***Đầu vào***:\n",
        "- Dòng đầu tiên chứa số nguyên $n (1 ≤ n ≤ 10^5\n",
        ")$ – ứng với số lượng của ngôi sao.\n",
        "- Dòng thứ 2 chứa các phân số đại diện \"$a/b,c/d$\",\n",
        "sao cho $\\frac{a}{b} =\\frac{sin \\alpha_1 }{ cos \\alpha_1}$, $\\frac{c}{d} = \\frac{sin \\alpha_2 }{cos \\alpha_2}$, ($0 \\leq a, b, c, d \\leq 10^5,0 \\leq \\alpha_1 < \\alpha_2 \\leq \\pi,ab \\neq cd$). Các số a, b, c, d đều là số nguyên.\n",
        "- N dòng tiếp theo bao gồm $x_i, y_i (1 ≤ x_i,  y_i ≤ 10^5\n",
        ")$ - tọa độ của các ngôi sao. Đảm bảo rằng các tọa độ trên đôi một khác nhau.\n",
        "\n",
        "**Đầu Ra**:\n",
        "\n",
        "Một dòng duy nhất chứa chuỗi sao dài nhất của Jerry có thể đạt được.\n",
        "\n",
        "**Ví dụ**:\n",
        "\n",
        "\\begin{array}{|c|c|c|}\n",
        "Input&Output\\\\ \n",
        "15&5\\\\\n",
        "1/4\\;2/1\\\\\n",
        "3\\;1\\\\\n",
        "6\\;2\\\\\n",
        "9\\;3\\\\\n",
        "12\\;4\\\\\n",
        "15\\;5\\\\\n",
        "2\\;1\\\\\n",
        "4\\;2\\\\\n",
        "5\\;3\\\\\n",
        "7\\;4\\\\\n",
        "1\\;3\\\\\n",
        "3\\;4\\\\\n",
        "2\\;5\\\\\n",
        "4\\;5\\\\\n",
        "1\\;6\\\\\n",
        "6\\;6\\\\\n",
        "\\end{array}\n",
        "\n",
        "\n",
        "\n"
      ]
    },
    {
      "cell_type": "markdown",
      "metadata": {
        "id": "wTKqOhnnvALy",
        "colab_type": "text"
      },
      "source": [
        "**Abstraction (Trừu tượng hóa)**\n",
        "\n",
        ">Cho N điểm trên trục tọa độ $O_{xy}$  và 2 góc $\\alpha_1$, $\\alpha_2$, hãy tìm độ dài lớn nhất M của chuỗi các điểm trên sao cho $\\forall i \\in (1,n)$, $\\alpha_1 < (\\overrightarrow{S_{i}S_{i-1}},\\overrightarrow{O_xS_{i-1}}) < \\alpha_2$ \n",
        "\n",
        "\n"
      ]
    },
    {
      "cell_type": "markdown",
      "metadata": {
        "id": "z7u6wAPWfInk",
        "colab_type": "text"
      },
      "source": [
        "**Decomposition (Phân rã)**\n",
        ">Đối với bài toán này ta phải xử lí 2 bài toán con:\n",
        ">- > Với mỗi cặp điểm $i$ và $j$ ta cần phải xét điều kiện $\\alpha_1 < (\\overrightarrow{ij},\\overrightarrow{O_xj}) < \\alpha_2 (1)$ \n",
        ">- > Sau khi tìm được tất cả các cặp đỉnh $(i,j)$ hợp lệ ta cần ghép chúng lại thành một chuỗi sao cho có độ dài lớn nhất mà vẫn thỏa điều kiện đề bài\n",
        ">- > Để ý rằng với mỗi $(i,j)$ thỏa điều kiện &(1)& thì $x_i > x_j, y_i > y_j$ vì vậy ta sẽ sort các điểm theo $x$ giảm dần và $y$ giảm dần để dễ bề xử lí về sau"
      ]
    },
    {
      "cell_type": "markdown",
      "metadata": {
        "id": "Qv3QvnKFhRhA",
        "colab_type": "text"
      },
      "source": [
        "**Pattern Recognition (Tìm quy luật)**\n",
        "> Quy hoạch động (Dynamic Programming):\n",
        ">- > Gọi $F[i]$ là độ dài chuỗi dài nhất xét đến phần tử thứ $i$, với mỗi cặp $(i,j)$ mà được cho là thỏa $\\alpha_1 < (\\overrightarrow{ij},\\overrightarrow{O_xj}) < \\alpha_2$ thì khi đó $F[i] = max(F[i], F[j] + 1)$\n",
        ">- > Cuối cùng kết quả của bài toán là $F[n]$\n",
        "\n",
        "> Đánh giá độ phức tạp:\n",
        "\n",
        "> - Với mỗi $i \\in (1,n)$ ta cần duyệt $i$ phần tử để tìm được các $j$ thỏa $(1)$ vậy theo quy tắc nhân thì độ phức tạp của bài toán này là $O(N^2)$"
      ]
    },
    {
      "cell_type": "markdown",
      "metadata": {
        "id": "UKrIgXBY18C_",
        "colab_type": "text"
      },
      "source": [
        "**Algorithmic Thinking (Trình bày giải thuật)**\n",
        "\n",
        "[Giải thuật được lập trình bằng ngôn ngữ Python.](https://github.com/khanh-moriaty/CS112.L11.KHTN/blob/master/week2/code/counting_stars.py)"
      ]
    },
    {
      "cell_type": "code",
      "metadata": {
        "id": "3xOXg4P2pXNT",
        "colab_type": "code",
        "colab": {}
      },
      "source": [
        "mum = 1\n",
        "def ss(x, y , i, j):\n",
        "    global a,b,c,d\n",
        "    q = x[j] - x[i]\n",
        "    p = y[j] - y[i]\n",
        "    if q <= 0 or p <= 0 :\n",
        "        return 0\n",
        "    q = abs(q)\n",
        "    p = abs(p)\n",
        "    if p * b > q * a and p * d < q * c:\n",
        "        return 1\n",
        "    return 0\n",
        "def _lis( x , y , n ): \n",
        "  \n",
        "    # to allow the access of global variable \n",
        "    global maximum,res\n",
        "  \n",
        "    # Base Case \n",
        "    if n == 1 : \n",
        "        return 0\n",
        "  \n",
        "    # maxEndingHere is the length of LIS ending with arr[n-1] \n",
        "    maxEndingHere = 0\n",
        "    \"\"\"Recursively get all LIS ending with arr[0], arr[1]..arr[n-2] \n",
        "       IF arr[n-1] is maller than arr[n-1], and max ending with \n",
        "       arr[n-1] needs to be updated, then update it\"\"\"\n",
        "    res.append(0)\n",
        "    for i in range(n): \n",
        "        for j in range(i):\n",
        "            if ss(x,y,i,j) :\n",
        "                res[i] = max(res[i],res[j] + 1)\n",
        "                #print(x[i],y[i],x[j],y[j])\n",
        "    # Compare maxEndingHere with overall maximum. And \n",
        "    # update the overall maximum if needed \n",
        "  \n",
        "    return res[n-1]\n",
        "def lis(x,y): \n",
        "  \n",
        "    # to allow the access of global variable \n",
        "    global maximum \n",
        "  \n",
        "    # lenght of arr \n",
        "    n = len(x) \n",
        "  \n",
        "    # maximum variable holds the result \n",
        "    maximum = 0\n",
        "    for i in range(n):\n",
        "        res.append(0)\n",
        "    # The function _lis() stores its result in maximum  \n",
        "    return _lis(x, y , n)  \n",
        "n = int(input())\n",
        "s = input().split()\n",
        "a,b = [int(x) for x in s[0].split('/')]\n",
        "c,d = [int(x) for x in s[1].split('/')]\n",
        "x = [0]\n",
        "y = [0]\n",
        "res = []\n",
        "for i in range(n):\n",
        "    x1,x2 = [int(x) for x in input().split()]\n",
        "    x.append(x1)\n",
        "    y.append(x2)\n",
        "z = list(zip(x,y))\n",
        "z = sorted(z, key=lambda w: w[0]*(10**5) + w[1],reverse = True )\n",
        "x,y = zip(*z)\n",
        "print(lis(x,y))"
      ],
      "execution_count": 1,
      "outputs": [
        {
          "output_type": "stream",
          "text": [
            "15\n",
            "1/4 2/1\n",
	    "3 1\n",
            "6 2\n", 
            "9 3\n", 
            "12 4\n", 
            "15 5\n", 
            "2 1\n", 
            "4 2\n", 
            "5 3\n", 
            "7 4\n", 
            "1 3\n", 
            "3 4\n", 
            "2 5\n", 
            "4 5\n", 
            "1 6\n", 
            "6 6\n", 
            "\n",
	    "5\n", 
          ],
          "name": "stdout"
        }
      ]
    }
  ]
}
