{
  "nbformat": 4,
  "nbformat_minor": 0,
  "metadata": {
    "colab": {
      "name": "week2_countingStars.ipynb",
      "provenance": [],
      "collapsed_sections": []
    },
    "kernelspec": {
      "name": "python3",
      "display_name": "Python 3"
    },
    "accelerator": "GPU"
  },
  "cells": [
    {
      "cell_type": "markdown",
      "metadata": {
        "id": "6XdSgHsFnFYZ",
        "colab_type": "text"
      },
      "source": [
        "\n",
        "# **Team N008**\n",
        "\n",
        "# **Nguyễn Minh Huy**\n",
        "\n",
        "# **19520109**\n",
        "\n",
        "# **Hồ Chung Đức Khánh** \n",
        "\n",
        "# **19520084**\n",
        "\n",
        "# **Võ Minh Hiếu**\n",
        "\n",
        "# **19520624** "
      ]
    },
    {
      "cell_type": "markdown",
      "metadata": {
        "id": "bszagF5cmfCT",
        "colab_type": "text"
      },
      "source": [
        "[![Open In Colab](https://colab.research.google.com/assets/colab-badge.svg)](https://colab.research.google.com/drive/1jnYJqFq1QzbhgV0DjJYwETucgynraZ7b?fbclid=IwAR3I5Q_SFq1HNxZrGH3UQwHAW3zpgTSRBoc3jckuccBi_wPN220Ztvv0hKQ#scrollTo=bszagF5cmfCT)"
      ]
    },
    {
      "cell_type": "markdown",
      "metadata": {
        "id": "wl8OUliDpTzO",
        "colab_type": "text"
      },
      "source": [
        "# **Đếm Sao**\n",
        "***Đầu vào***:\n",
        "- Dòng đầu tiên chứa số nguyên $n (1 ≤ n ≤ 10^5\n",
        ")$ – ứng với số lượng của ngôi sao.\n",
        "- Dòng thứ 2 chứa các phân số đại diện \"$a/b,c/d$\",\n",
        "sao cho $a/b =sin \\alpha_1 / cos \\alpha_1$, $c/d = sin \\alpha_2 /cos \\alpha_2$, ($0 \\leq a, b, c, d \\leq 10^5,0 \\leq \\alpha_1 < \\alpha_2 \\leq \\pi,ab \\neq cd$). Các số a, b, c, d đều là số nguyên.\n",
        "- N dòng tiếp theo bao gồm $x_i, y_i (1 ≤ x_i,  y_i ≤ 10^5\n",
        ")$ - tọa độ của các ngôi sao. Đảm bảo rằng các tọa độ trên đôi một khác nhau.\n",
        "\n",
        "**Đầu Ra**:\n",
        "\n",
        "Một dòng duy nhất chứa chuỗi sao dài nhất của Jerry có thể đạt được.\n",
        "\n",
        "**Ví dụ**:\n",
        "\n",
        "\\begin{array}{|c|c|c|}\\hline \\\\\n",
        "Đầu\\;vào&Đầu\\;ra\\\\ \\hline \\\\\n",
        "15&5\\\\\n",
        "1/4\\;2/1\\\\\n",
        "3\\;1\\\\\n",
        "6\\;2\\\\\n",
        "9\\;3\\\\\n",
        "12\\;4\\\\\n",
        "15\\;5\\\\\n",
        "2\\;1\\\\\n",
        "4\\;2\\\\\n",
        "5\\;3\\\\\n",
        "7\\;4\\\\\n",
        "1\\;3\\\\\n",
        "3\\;4\\\\\n",
        "2\\;5\\\\\n",
        "4\\;5\\\\\n",
        "1\\;6\\\\\n",
        "6\\;6\\\\ \\hline \n",
        "\\end{array}\n",
        "\n",
        "\n",
        "\n"
      ]
    },
    {
      "cell_type": "markdown",
      "metadata": {
        "id": "wTKqOhnnvALy",
        "colab_type": "text"
      },
      "source": [
        "**Abstraction (Trừu tượng hóa)**\n",
        "\n",
        ">Cho N điểm trên trục tọa độ $O_{xy}$  và 2 góc $\\alpha_1$, $\\alpha_2$, hãy tìm độ dài lớn nhất M của chuỗi các điểm trên sao cho $\\forall i \\in (1,n)$, $\\alpha_1 < (\\overrightarrow{S_{i}S_{i-1}},\\overrightarrow{O_xS_{i-1}}) < \\alpha_2$ \n",
        "\n",
        "\n"
      ]
    },
    {
      "cell_type": "markdown",
      "metadata": {
        "id": "z7u6wAPWfInk",
        "colab_type": "text"
      },
      "source": [
        "**Decomposition (Phân rã)**\n",
        ">Đối với bài toán này ta phải xử lí 2 bài toán con:\n",
        ">- > Với mỗi cặp điểm $i$ và $j$ ta cần phải xét điều kiện $\\alpha_1 < (\\overrightarrow{ij},\\overrightarrow{O_xj}) < \\alpha_2 (1)$ \n",
        ">- > Sau khi tìm được tất cả các cặp đỉnh $(i,j)$ hợp lệ ta cần ghép chúng lại thành một chuỗi sao cho có độ dài lớn nhất mà vẫn thỏa điều kiện đề bài\n",
        ">- > Để ý rằng với mỗi $(i,j)$ thỏa điều kiện &(1)& thì $x_i > x_j, y_i > y_j$ vì vậy ta sẽ sort các điểm theo $x$ giảm dần và $y$ giảm dần để dễ bề xử lí về sau"
      ]
    },
    {
      "cell_type": "markdown",
      "metadata": {
        "id": "Qv3QvnKFhRhA",
        "colab_type": "text"
      },
      "source": [
        "**Pattern Recognition (Tìm quy luật)**\n",
        "> Quy hoạch động (Dynamic Programming):\n",
        ">- > Gọi $F[i]$ là độ dài chuỗi dài nhất xét đến phần tử thứ $i$, với mỗi cặp $(i,j)$ mà được cho là thỏa $\\alpha_1 < (\\overrightarrow{ij},\\overrightarrow{O_xj}) < \\alpha_2$ thì khi đó $F[i] = max(F[i], F[j] + 1)$\n",
        ">- > Cuối cùng kết quả của bài toán là $F[n]$\n",
        "\n",
        "> Đánh giá độ phức tạp:\n",
        "\n",
        "> - Với mỗi $i \\in (1,n)$ ta cần duyệt $i$ phần tử để tìm được các $j$ thỏa $(1)$ vậy theo quy tắc nhân thì độ phức tạp của bài toán này là $O(N^2)$"
      ]
    },
    {
      "cell_type": "markdown",
      "metadata": {
        "id": "UKrIgXBY18C_",
        "colab_type": "text"
      },
      "source": [
        "**Algorithmic Thinking (Trình bày giải thuật)**\n",
        ">giải thuật python 3"
      ]
    }
  ]
}