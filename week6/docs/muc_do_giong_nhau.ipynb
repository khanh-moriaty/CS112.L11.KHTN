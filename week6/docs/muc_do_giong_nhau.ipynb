{
 "cells": [
  {
   "cell_type": "markdown",
   "metadata": {},
   "source": [
    "\n",
    "# **Team N008**\n",
    "\n",
    "# **Nguyễn Minh Huy**\n",
    "\n",
    "# **19520109**\n",
    "\n",
    "# **Hồ Chung Đức Khánh** \n",
    "\n",
    "# **19520624**\n",
    "\n",
    "# **Võ Minh Hiếu**\n",
    "\n",
    "# **19520084** "
   ]
  },
  {
   "cell_type": "markdown",
   "metadata": {},
   "source": [
    "# Mức độ giống nhau\n",
    "**Đề bài**\n",
    "\n",
    "> Một quần thể sinh vật ngoài hành tinh có gene tạo thành từ 26 cơ sở ký hiệu từ A tới Z. Mỗi gene là một xâu ký tự các chữ cái la tinh hoa. Hai cá thể khác nhau có gene khác nhau. Mức độ giống nhau của 2 gene sẽ xác định độ huyết thống của chúng. \n",
    "<br> <br>\n",
    "Độ giống nhau của gene thứ nhất đối với gene thứ 2 là số lượng cặp 2 cơ sở liên tiếp nhau trong gene thứ nhất đồng thời là cặp 2 cơ sở liên tiếp nhau trong gene thứ hai.\n",
    "<br> <br>\n",
    "Ví dụ, gene thứ nhất là <b>ABBACAB</b>, gene thứ 2 là <b>BCABB</b> thì mức độ giống nhau là 4.\n",
    "<br> <br>\n",
    "Cho hai gene. Hãy xác định mức độ giống nhau của gene thứ nhất với gene thứ 2.\n",
    "\n",
    "**Dữ liệu** \n",
    "> Vào từ thiết bị nhập chuẩn bao gồm 2 dòng chứa 2 xâu khác rỗng xác định gene thứ nhất và gene thứ 2, mỗi xâu chỉ chứa các ký tự chữ cái in hoa và có độ dài không quá $10^5$.\n",
    "\n",
    "**Kết quả** \n",
    "> Đưa ra thiết bị xuất chuẩn một số nguyên – mức độ giống nhau của 2 genes.\n",
    "\n",
    "**Ví dụ**\n",
    "\\begin{array}{|c|c|}\n",
    "Input&Output\\\\ \\hline\n",
    "ABBACAB & 4 \\\\\n",
    "BCABB\n",
    "\\end{array}"
   ]
  },
  {
   "cell_type": "markdown",
   "metadata": {},
   "source": [
    "# **Computational Thinking**"
   ]
  },
  {
   "cell_type": "markdown",
   "metadata": {},
   "source": [
    "> **Abtraction**\n",
    ">> Cho 2 chuỗi ký tự s và t, đếm xem có bao nhiêu cặp 2 ký tự liên tiếp của s có nằm trong t."
   ]
  },
  {
   "cell_type": "markdown",
   "metadata": {},
   "source": [
    "> **Decomposision**\n",
    ">> Nếu chúng ta có một tập hợp $A$ chứa các cặp 2 ký tự liên tiếp của $t$ thì đáp án bài toán là số cặp 2 ký tự liên tiếp trong $s$ có trong tập hợp $A$."
   ]
  },
  {
   "cell_type": "markdown",
   "metadata": {},
   "source": [
    "> **Pattern Recognition**\n",
    ">> Một tập hợp có thể được biểu diễn bằng cây tìm kiếm nhị phân cân bằng, hoặc cũng có thể được biểu diễn bằng cấu trúc dữ liệu set trong python."
   ]
  },
  {
   "cell_type": "markdown",
   "metadata": {},
   "source": [
    "> **Algorithmic Thinking**\n",
    ">> -[Trình bày giải thuật bằng python 3](https://github.com/khanh-moriaty/CS112.L11.KHTN/blob/master/week6/code/muc_do_giong_nhau.py)\n"
   ]
  }
 ],
 "metadata": {
  "kernelspec": {
   "display_name": "Python 3",
   "language": "python",
   "name": "python3"
  },
  "language_info": {
   "codemirror_mode": {
    "name": "ipython",
    "version": 3
   },
   "file_extension": ".py",
   "mimetype": "text/x-python",
   "name": "python",
   "nbconvert_exporter": "python",
   "pygments_lexer": "ipython3",
   "version": "3.8.2"
  }
 },
 "nbformat": 4,
 "nbformat_minor": 4
}