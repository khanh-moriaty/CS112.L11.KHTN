{
  "nbformat": 4,
  "nbformat_minor": 0,
  "metadata": {
    "colab": {
      "name": "taicautruc.ipynb",
      "provenance": [],
      "collapsed_sections": []
    },
    "kernelspec": {
      "name": "python3",
      "display_name": "Python 3"
    }
  },
  "cells": [
    {
      "cell_type": "markdown",
      "metadata": {
        "id": "5q9PGaZu-Yty"
      },
      "source": [
        "\n",
        "# **Team N008**\n",
        "\n",
        "# **Nguyễn Minh Huy**\n",
        "\n",
        "# **19520109**\n",
        "\n",
        "# **Hồ Chung Đức Khánh** \n",
        "\n",
        "# **19520084**\n",
        "\n",
        "# **Võ Minh Hiếu**\n",
        "\n",
        "# **19520624** "
      ]
    },
    {
      "cell_type": "markdown",
      "metadata": {
        "id": "dEkym2jJ4-UR"
      },
      "source": [
        "# Địa lan (1s, 100MB)\n",
        "**Đề bài**\n",
        "\n",
        "> Giáo sư Braun đã lai giống tạo ra $n$ loại địa lan mới độc đáo. Mỗi loại địa lan được trồng trong một chậu riêng và được ghi một số thể hiện đặc điểm gene của loại hoa đó, chậu thứ $i$ có số là $a_i$, $i = 1 ÷ n$.\n",
        "\n",
        "> Hội chợ hoa địa lan thế giới mời giáo sư tham gia và giới thiệu các thành quả nghiên cứu của ông. Các chậu hoa do ông mang tới sẽ được đặt trên $k$ đôn dọc theo đường đi dẫn tới gian hàng chính của hội chợ. \n",
        "\n",
        "> Muốn gây ấn tượng mạnh cho những người tham dự, đặc biệt là các nhà khoa học Giáo sư yêu cầu trợ lý của mình chọn $k$ chậu sao cho khi thực hiện phép <b>AND</b> số trên các chậu hoa tới (nếu xét chúng ở dạng biểu diễn nhị phân) sẽ có kết quả bằng $0$.\n",
        "\n",
        "> Hãy xác định xem người trợ lý có thể chọn được $k$ chậu như vậy hay không và đưa ra thông báo <b>“YES”</b> hoặc <b>“NO”</b>.\n",
        "\n",
        "**Dữ liệu:** \n",
        "\n",
        "> Vào từ file thiết bị nhập chuẩn:\n",
        "\n",
        "> Dòng đầu tiên chứa 2 số nguyên $n$ và $k$ $(1 \\leq n \\leq 2 \\times 10^4, \\;1 \\leq k \\leq n)$,\n",
        "> Dòng thứ 2 chứa $n$ số nguyên $a_1, a_2, \\cdots, a_n \\;(0 \\leq a_i < 2^{12}, \\;i = 1 ÷ n)$.\n",
        "\n",
        "\n",
        "**Kết quả:** \n",
        "\n",
        "> Đưa ra thiết bị xuất chuẩn thông báo tìm được.\n",
        "\n",
        "**Dữ liệu mẫu**:\n",
        "\n",
        "\\begin{array}{|c|c|}\n",
        "Input&Output\\\\ \\hline\n",
        "3\\;2 & YES\\\\\n",
        "5\\;4\\;3\n",
        "\\end{array}\n"
      ]
    },
    {
      "cell_type": "markdown",
      "metadata": {
        "id": "2wR_7YIvABMK"
      },
      "source": [
        "# **Computational Thinking**"
      ]
    },
    {
      "cell_type": "markdown",
      "metadata": {
        "id": "_blnmeyPBj0f"
      },
      "source": [
        ">**Abstraction (Trừu tượng hóa)**\n",
        ">> Cho dãy $n$ số nguyên, có tồn tại dãy $k$ số liên tiếp sao cho phép <b>AND</b> giữa chúng có kết quả bằng $0$ hay không?"
      ]
    },
    {
      "cell_type": "markdown",
      "metadata": {
        "id": "0cankz3CH2KQ"
      },
      "source": [
        "> **Decomposision (Phân rã)**\n",
        ">> Bài toán này có thể chia nhỏ ra thành hai phần:\n",
        ">>> - Sử dụng sliding window với mọi đoạn $k$ số liên tiếp nhau.\n",
        ">>> - Với mỗi sliding window, ta cần kiểm tra xem đoạn đó có kết quả <b>AND</b> bằng $0$ hay không."
      ]
    },
    {
      "cell_type": "markdown",
      "metadata": {
        "id": "sxjua5V1JA6O"
      },
      "source": [
        "> **Pattern recognition (Tìm quy luật)**\n",
        ">> Nhận xét thấy được rằng phép <b>AND</b> có tính giao hoán và tính kết hợp. <br>\n",
        ">> $\\Rightarrow$ Có thể áp dụng cấu trúc dữ liệu cây phân đoạn để tính nhanh được kết quả <b>AND</b> của $k$ số liên tiếp bất kỳ.\n",
        "\n"
      ]
    },
    {
      "cell_type": "markdown",
      "metadata": {
        "id": "3fUgyo5eTaTk"
      },
      "source": [
        "> **Algorithmic Thinking (trình bày giải thuật)**\n",
        ">> -[Trình bày giải thuật bằng python 3](https://github.com/khanh-moriaty/CS112.L11.KHTN/blob/master/week6/code/dia_lan.py)\n"
      ]
    }
  ]
}