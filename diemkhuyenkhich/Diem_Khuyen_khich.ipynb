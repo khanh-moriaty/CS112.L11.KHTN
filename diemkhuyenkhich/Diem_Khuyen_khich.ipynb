{
  "nbformat": 4,
  "nbformat_minor": 0,
  "metadata": {
    "colab": {
      "name": "Diem_Khuyen_khich.ipynb",
      "provenance": [],
      "collapsed_sections": []
    },
    "kernelspec": {
      "name": "python3",
      "display_name": "Python 3"
    }
  },
  "cells": [
    {
      "cell_type": "markdown",
      "metadata": {
        "id": "gx2xe4xl_Pph"
      },
      "source": [
        "# Nhóm N007 ([Chi tiết tại đây](https://github.com/khanh-moriaty/CS112.L11.KHTN/blob/master/diemkhuyenkhich))\n",
        "\n",
        "* Nguyễn Minh Huy-19520109\n",
        "* Võ Minh Hiếu-19520084\n",
        "* Hồ Chung Đức Khánh-19520624"
      ]
    },
    {
      "cell_type": "markdown",
      "metadata": {
        "id": "-stFHItc_nkr"
      },
      "source": [
        "# **Điểm khuyến khích**"
      ]
    },
    {
      "cell_type": "markdown",
      "metadata": {
        "id": "b5IZaQmZ_5vQ"
      },
      "source": [
        "##E1. Kỳ thi UIT ICPC WARMUP - ngày 18/10/2020\n"
      ]
    },
    {
      "cell_type": "markdown",
      "metadata": {
        "id": "83YKH4zLAA9w"
      },
      "source": [
        "##E2. Kỳ thi ICPC Miền Nam - ngày 25/10/2020\n",
        "<img src = https://i.imgur.com/Gv69HKJ.png>\n"
      ]
    },
    {
      "cell_type": "markdown",
      "metadata": {
        "id": "Df5gggV0AC-i"
      },
      "source": [
        "##E3. Kỳ thi ICPC Miền Bắc + Miền Trung - ngày 01/11/2020\n",
        "<img src = https://i.imgur.com/4k3ri5Z.png>"
      ]
    },
    {
      "cell_type": "markdown",
      "metadata": {
        "id": "kei7Su2uAFJ4"
      },
      "source": [
        "##E4. Kỳ thi ICPC Quốc Gia - ngày 15/11/2020"
      ]
    },
    {
      "cell_type": "markdown",
      "metadata": {
        "id": "LpboDp_-AGdT"
      },
      "source": [
        "##E5. Kỳ thi chọn đội tuyển UIT tham dự ICPC Asia Region - ngày 19/11/2020"
      ]
    }
  ]
}