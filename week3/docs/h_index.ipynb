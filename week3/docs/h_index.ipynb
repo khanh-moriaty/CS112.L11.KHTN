{
 "cells": [
  {
   "cell_type": "markdown",
   "metadata": {},
   "source": [
    "# **H-Index**\n",
    "### **Đề bài:**\n",
    "Làm thế nào để đánh giá sự thành công của một nhà khoa học?  Dựa vào số bài báo được công bố hay dựa vào số lần một bài báo được trích dẫn tới ở công trình của những người khác? Cả hai tham số đó đều quan trọng.\n",
    "\n",
    "Một bài báo có điểm số trích dẫn là **c** nếu nó được trích dẫn tới **c** lần trong các công trình của những nhà khoa học khác. Một trong số các cách đánh giá sự thành công của một nhà khoa học là tính chỉ số ảnh hưởng _**H_Index**_ dựa trên sự kết hợp giữa số lượng bài báo và chỉ số trích dẫn của các bài báo đó.\n",
    "\n",
    "Chỉ số _**H_Index**_ của một nhà khoa học bằng _**k**_ lớn nhất nếu người đó có _**k**_ bài báo, mỗi bài có điểm số trích dẫn không nhỏ hơn k. Ví dụ, một người có 10 bài báo, mỗi bài báo được trích dẫn không dưới 10 lần thì _**H_Index**_ của người đó ít nhất là bằng 10.\n",
    "\n",
    "Một người có _**n**_ bài báo, bài báo thứ _**i**_ có điểm trích dẫn là $c_{i}$, _**i**_ = 1 ÷ _**n**_. Hãy xác định _**H_Index**_ của người đó.\n",
    "\n",
    "_**Dữ liệu**_: Vào từ thiết bị nhập chuẩn:\n",
    "\n",
    "- Dòng đầu tiên chứa một số nguyên -**n**_ (1 ≤ _**n**_ ≤ $5×10^{5}$),\n",
    "- Dòng thứ 2 chứa _**n**_ số nguyên $c_{1}, c_{2}, . . ., c_{n}$ (0 ≤ $c_{i}$ ≤ $10^{6}$, _**i**_ = 1 ÷ _**n**_).\n",
    "Kết quả: Đưa ra thiết bị xuất chuẩn một số nguyên – _**H_Index**_ tìm được.\n",
    "\n",
    "_**Ví dụ**_:\n",
    "\n",
    "| input      |   | output |\n",
    "|------------|---|--------|\n",
    "| 5          |   | 4      |\n",
    "| 8 5 3 4 10 |   |        |\n"
   ]
  },
  {
   "cell_type": "markdown",
   "metadata": {},
   "source": [
    "**Abstraction**\n",
    "\n",
    ">Cho _**n**_ số nguyên $c_{1}, c_{2}, . . ., c_{n}$ (0 ≤ $c_{i}$ ≤ $10^{6}$, _**i**_ = 1 ÷ _**n**_), hãy tìm số _**k**_ lớn nhất sao cho có _**k**_ số trong _**n**_ số trên không nhỏ hơn _**k**_"
   ]
  },
  {
   "cell_type": "markdown",
   "metadata": {},
   "source": [
    "**Decompositon && Pattern Recognition**\n",
    "\n",
    ">Một suy nghĩ hiển nhiên đó là ta sẽ sắp xếp lại _**n**_ số nguyên trên theo thứ tự giảm dần, ta được dãy số $a_{1}, a_{2}, . . ., a_{n}$ (0 ≤ $a_{i}$ ≤ $10^{6}$, _**i**_ = 1 ÷ _**n**_) giảm dần. Khi đó, bài toán sẽ trở thành tìm vị trí _**k**_ đầu tiên trong dãy số $(a_{i})$ sao cho $a_{k}<k$"
   ]
  },
  {
   "cell_type": "markdown",
   "metadata": {},
   "source": [
    "**Algorithmic Thinking**\n",
    "\n",
    "[Thuật toán được lập trình bằng ngôn ngữ Python.](https://github.com/khanh-moriaty/CS112.L11.KHTN/blob/master/week3/code/h_index.py)\n"
   ]
  },
  {
   "cell_type": "code",
   "execution_count": null,
   "metadata": {},
   "outputs": [],
   "source": []
  }
 ],
 "metadata": {
  "kernelspec": {
   "display_name": "Python 3",
   "language": "python",
   "name": "python3"
  }
 },
 "nbformat": 4,
 "nbformat_minor": 4
}
