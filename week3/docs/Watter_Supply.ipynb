{
  "nbformat": 4,
  "nbformat_minor": 0,
  "metadata": {
    "colab": {
      "name": "WatterS.ipynb",
      "provenance": [],
      "collapsed_sections": []
    },
    "kernelspec": {
      "name": "python3",
      "display_name": "Python 3"
    }
  },
  "cells": [
    {
      "cell_type": "markdown",
      "metadata": {
        "id": "5q9PGaZu-Yty"
      },
      "source": [
        "\n",
        "# **Team N008**\n",
        "\n",
        "# **Nguyễn Minh Huy**\n",
        "\n",
        "# **19520109**\n",
        "\n",
        "# **Hồ Chung Đức Khánh** \n",
        "\n",
        "# **19520084**\n",
        "\n",
        "# **Võ Minh Hiếu**\n",
        "\n",
        "# **19520624** "
      ]
    },
    {
      "cell_type": "markdown",
      "metadata": {
        "id": "dEkym2jJ4-UR"
      },
      "source": [
        "# KHÔI PHỤC HỆ THỐNG CẤP NƯỚC (1s, 100MB)\n",
        "**Đề bài**:\n",
        "> Vùng đất diệu kỳ Wonderland có **N** hộ gia đình đã được trang bị một hệ thống cung cấp nước sạch đến từng ngôi nhà. **Mỗi đường ống nối trực tiếp 2 nhà, nước chảy trong đường ống theo 2 chiều, có thể truyền qua nhiều trung gian trước khi đến một nhà nào đó. Trong hồ sơ lưu trữ, các ngôi nhà được ghi số từ 1 đến N**.\n",
        "\n",
        ">Một trận động đất đã gây nên sự cố nghiêm trọng làm cho cả vùng bị chia cắt thành nhiều khu vực rời nhau, không còn tiếp cận được với nguồn nước. Để khắc phục, những người có trách nhiệm đã khảo sát hiện trạng và ghi nhận được toàn vùng đất đang thảm họa vẫn **còn M đường ống đang hoạt động tốt**.\n",
        "\n",
        ">Nhiệm vụ đặt ra là phải khôi phục hệ thống cấp nước bằng cách lắp thêm một số đường ống. Tuy nhiên, do hạn chế về thời gian và kinh phí nên đòi hỏi phương án khôi phục phải được thực hiện với ít đường ống được lắp thêm nhất. Câu hỏi đặt ra: **cần lắp thêm ít nhất bao nhiêu đường ống để hệ thống cấp nước có thể đưa nước đến từng ngôi nhà**. Câu hỏi phụ: **có bao nhiêu phương án khác nhau đáp ứng yêu cầu**; số phương án có thể khá lớn nên chỉ cần đưa ra số dư khi chia cho $10^9+7$.\n",
        "\n",
        "**Dữ liệu**: \n",
        "\n",
        ">Dòng đầu tiên chứa 2 số nguyên **N, M** ($1 \\leq N$,$ M  \\leq 10^5$)\n",
        "\n",
        ">Mỗi dòng trong M dòng tiếp theo chứa 2 số nguyên a, b ($1 \\leq a$,$ b  \\leq N$). cho biết vẫn còn đường ống nối nhà a với nhà b\n",
        "\n",
        "**Kết quả**:\n",
        "> Đưa ra thiết bị xuất chuẩn số đường ống cần được lắp thêm và số phương án đáp ứng yêu cầu (theo mô đun $10^9+7$) mỗi số trên một dòng.\n",
        "\n",
        "**Dữ liệu mẫu**:\n",
        "\n",
        "\\begin{array}{|c|c|}\n",
        "Input&Output\\\\ \\hline\n",
        "3\\;1&1\\\\\n",
        "1\\;2&2 \n",
        "\\end{array}\n"
      ]
    },
    {
      "cell_type": "markdown",
      "metadata": {
        "id": "2wR_7YIvABMK"
      },
      "source": [
        "# **Computational Thinking**"
      ]
    },
    {
      "cell_type": "markdown",
      "metadata": {
        "id": "_blnmeyPBj0f"
      },
      "source": [
        ">**Abstraction (Trừu tượng hóa)**\n",
        ">> Cho một đồ thị 2 chiều $G = (V,E)$ với N đỉnh và M cạnh, đếm số cạnh K thêm vào ít nhất sao cho $G$ có đúng 1 thành phần liên thông và số cách để thêm K cạnh đó ."
      ]
    },
    {
      "cell_type": "markdown",
      "metadata": {
        "id": "0cankz3CH2KQ"
      },
      "source": [
        "> **Decomposision (Phân rã)**\n",
        ">> Đối với bài toán này ta phải giải quyết 2 bài toán con:\n",
        ">> - > Đếm số thành phần liên thông và nén chúng lại thành 1 đỉnh đại diện\n",
        ">> - > Từ đó suy ra được số cạnh ít nhất cần thêm và số cách thêm số cạnh đó"
      ]
    },
    {
      "cell_type": "markdown",
      "metadata": {
        "id": "sxjua5V1JA6O"
      },
      "source": [
        "> **Pattern recognition (Tìm quy luật)**\n",
        ">> BFS(Duyệt theo chiều rộng):\n",
        ">> - > Với một đỉnh $i (1 \\leq i \\leq N)$ trên đồ thị, xét Visited$[i]$ = 0 nghĩa là $i$ chưa được duyệt và ta sẽ tiến hành duyệt điểm $i$ theo chiều rộng.\n",
        ">> - > Khi một đỉnh $i$ được duyệt ta sẽ tìm được thành phần liên thông thứ **num_tplt** mà $i$ thuộc về và đếm số lượng đỉnh trong thành phần liên thông đó và lưu lại trong **S[num_tplt]**. \n",
        "\n",
        ">> Counting:\n",
        ">> - > Dễ thấy nếu coi một thành phần liên thông là 1 đỉnh thì số cạnh cần thêm bằng **num_tplt - 1**\n",
        ">> - > Khi đó chúng ta đã đưa về bài toán quen thuộc, từ **num_tplt** đỉnh đã cho, đếm số cách thêm cạnh vào để đồ thị liên thông, từ đó ta có công thức [Cayley's formula](https://en.wikipedia.org/wiki/Cayley%27s_formula) số cách để thêm K cạnh vào là $N^{K-2}$(K = num_tplt)\n",
        ">> - > Xét 2 thành phần liên thông $i,j$ bất kì, số cách để nối 2 thành phân liên thông này là $S_i*S_j$ theo quy tắc nhân \n",
        "+ Đáp án của bài toán là $(\\prod_{i=1}^{n} S(i)) * N^{k-2}$\n"
      ]
    },
    {
      "cell_type": "markdown",
      "metadata": {
        "id": "3fUgyo5eTaTk"
      },
      "source": [
        "> **Algorithmic Thinking (trình bày giải thuật)**\n",
        ">> -[Trình bày giải thuật bằng python 3](https://github.com/khanh-moriaty/CS112.L11.KHTN/blob/master/week3/code/water_supply.py)\n"
      ]
    }
  ]
}