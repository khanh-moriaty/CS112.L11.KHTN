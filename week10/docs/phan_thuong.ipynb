{
  "nbformat": 4,
  "nbformat_minor": 0,
  "metadata": {
    "colab": {
      "name": "so_nguyen_moi.ipynb",
      "provenance": []
    },
    "kernelspec": {
      "name": "python3",
      "display_name": "Python 3"
    }
  },
  "cells": [
    {
      "cell_type": "markdown",
      "metadata": {
        "id": "VM2IqYZSWOe4"
      },
      "source": [
        "\n",
        "# **Team N008**\n",
        "\n",
        "# **Nguyễn Minh Huy**\n",
        "\n",
        "# **19520109**\n",
        "\n",
        "# **Hồ Chung Đức Khánh** \n",
        "\n",
        "# **19520084**\n",
        "\n",
        "# **Võ Minh Hiếu**\n",
        "\n",
        "# **19520624** "
      ]
    },
    {
      "cell_type": "markdown",
      "metadata": {
        "id": "T7uWEx23WQc2"
      },
      "source": [
        "# Số nguyên mới\n",
        "**Đề bài**\n",
        "\n",
        "> Cho số nguyên dương **_n_** có không quá 100 chữ số. Hãy xác định số nguyên lớn nhất **_m_** chia hết cho 3 và khác **_n_** ở đúng một chữ số.\n",
        "\n",
        "> Ví dụ, ***n*** = 123 thì ***m*** sẽ là 723\n",
        "\n",
        "**Dữ liệu:** \n",
        "\n",
        "> Vào từ thiết bị nhập chuẩn gồm một dòng chứa số nguyên ***n*** có không quá 100 chữ số và không chứa các số 0 không có nghĩa. \n",
        "\n",
        "**Kết quả:** \n",
        "\n",
        "> Đưa ra thiết bị xuất chuẩn số nguyên ***m*** tìm được\n",
        "\n",
        "**Dữ liệu mẫu**:\n",
        "\n",
        "\\begin{array}{|c|c|}\n",
        "Input&Output\\\\ \\hline\n",
        "123 & 723\n",
        "\\end{array}"
      ]
    },
    {
      "cell_type": "markdown",
      "metadata": {
        "id": "cYNfEibxW_YP"
      },
      "source": [
        "# **Computational Thinking**"
      ]
    },
    {
      "cell_type": "markdown",
      "metadata": {
        "id": "1_proOXuXQX4"
      },
      "source": [
        ">**Abstraction (Trừu tượng hóa)**\n",
        ">> Đề bài đã quá ngắn gọn và \"trừu tượng\" rồi, cho nên nhóm mình sẽ trích lại đề bài:\n",
        ">>> Cho số nguyên dương **_n_** có không quá 100 chữ số. Hãy xác định số nguyên lớn nhất **_m_** chia hết cho 3 và khác **_n_** ở đúng một chữ số."
      ]
    },
    {
      "cell_type": "markdown",
      "metadata": {
        "id": "mj4xVQE0Xjjo"
      },
      "source": [
        "> **Decomposision (Phân rã)**\n",
        ">> Khi tiếp cận bài toán này, ta sẽ nghĩ tới một số chú ý sau:\n",
        "- Ta sẽ thay đổi **duy nhất 1 chữ số**, thay đổi ở đây có nghĩ là thay chữ số này thành chữ số lớn nhất để tổng các chữ số trong ***n*** chia hết cho 3, sau khi thay đổi thì chữ số mới này **lớn hơn** chữ số ban đầu.\n",
        "- Để số mới là số lớn nhất và chia hết cho 3, ta sẽ thay đổi chữ số đầu tiên của ***n*** (nếu được). \n",
        "- Nếu không được, ta sẽ thay đổi chữ số tiếp theo (Nếu được).\n",
        "- Nếu không được, ta tiếp tục thay đổi chữ số tiếp theo (nếu được)....\n",
        "- Nếu đến chữ số cuối cùng của ***n*** vẫn không thay đổi được, ta sẽ trừ ***n*** một số ***r*** là số dư khi ***n*** chia cho 3 (***r*** $\\in$ {1,2,3}). Khi đó ta sẽ được số ***m*** là số nguyên lớn nhất thỏa điều kiện\n"
      ]
    },
    {
      "cell_type": "markdown",
      "metadata": {
        "id": "qpikGAgyXt_Y"
      },
      "source": [
        "> **Pattern recognition (Tìm quy luật)**\n",
        "\n",
        ">> Ta thực hiện vòng lặp duyệt các chữ số của ***n*** từ chữ số đầu tới khi có 1 chữ số được thay đổi.\n",
        "\n",
        ">> Nếu có thể thay đổi, ta dừng vòng lặp và xuất ra kết quả.\n",
        "\n",
        ">> Nếu đến chữ số cuối cùng mà chưa thay đổi, xuất ra ***n*** - ***r*** ( với ***r*** là số dư khi ***n*** chia cho 3 (***r*** $\\in$ {1,2,3})\n"
      ]
    },
    {
      "cell_type": "markdown",
      "metadata": {
        "id": "iNX9weRDXwcQ"
      },
      "source": [
        "> **Algorithmic Thinking (trình bày giải thuật)**\n",
        ">> -[Trình bày giải thuật bằng python 3](https://github.com/khanh-moriaty/CS112.L11.KHTN/blob/master/week9/code/so_nguyen_moi.py)\n"
      ]
    }
  ]
}