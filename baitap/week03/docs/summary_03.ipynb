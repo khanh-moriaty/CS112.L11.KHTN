{
  "nbformat": 4,
  "nbformat_minor": 0,
  "metadata": {
    "kernelspec": {
      "display_name": "Python 3",
      "language": "python",
      "name": "python3"
    },
    "language_info": {
      "codemirror_mode": {
        "name": "ipython",
        "version": 2
      },
      "file_extension": ".py",
      "mimetype": "text/x-python",
      "name": "python",
      "nbconvert_exporter": "python",
      "pygments_lexer": "ipython2",
      "version": "2.7.6"
    },
    "colab": {
      "name": "summary_03.ipynb",
      "provenance": [],
      "collapsed_sections": []
    }
  },
  "cells": [
    {
      "cell_type": "markdown",
      "metadata": {
        "collapsed": false,
        "id": "9X430finLgLb"
      },
      "source": [
        "## **Tóm tắt bài giảng buổi học 24-09-2020**\n",
        "**Tóm tắt**\n",
        "- Tiếp cận 2 bài tập H-index và water_supply \n",
        "- Thầy thông tin thêm về seminar\n",
        "- Các nhóm làm được bài đếm sao từ tuần trước lên giải thích lại cho các bạn trong 2p sau đó giải đáp thắc mắc và các bạn chưa làm được code trong 10p\n",
        "\n",
        "**Ghi chú**\n",
        "- Seminar cho các bạn có thể hiểu và làm theo được\n",
        "- Seminar sẽ bắt đầu vào buổi học sau, các nhóm chuẩn bị theo thứ tự từ trên xuống, bắt đầu từ 7h45p(thầy Duy yêu cầu vào lúc 9h), mỗi nhóm phải đọc bài trước chuẩn bị câu hỏi, nếu chuẩn bị không kip phải báo cáo với thầy\n",
        "\n",
        "**Thảo luận**\n",
        "- Thảo luận phương pháp giải bài H-index, và Water_supply\n",
        "- Cải tiến bài đếm sao\n",
        "\n"
      ]
    }
  ]
}