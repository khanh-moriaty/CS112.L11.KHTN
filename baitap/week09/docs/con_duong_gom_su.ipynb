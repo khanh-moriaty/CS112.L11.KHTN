{
 "cells": [
  {
   "cell_type": "markdown",
   "metadata": {},
   "source": [
    "\n",
    "# **Team N008**\n",
    "\n",
    "# **Nguyễn Minh Huy**\n",
    "\n",
    "# **19520109**\n",
    "\n",
    "# **Hồ Chung Đức Khánh** \n",
    "\n",
    "# **19520624**\n",
    "\n",
    "# **Võ Minh Hiếu**\n",
    "\n",
    "# **19520084** "
   ]
  },
  {
   "cell_type": "markdown",
   "metadata": {},
   "source": [
    "# CON ĐƯỜNG GỐM SỨ (1s, 50M)\n",
    "**Đề bài**\n",
    "\n",
    "> Cho **N** màu lô của con đê, xác định xem có cách nào chia **N** lô này thành các bức tranh (1 bức tranh gồm **K(N%K = 0)** lô liên tiếp bắt đầu từ lô đầu tiên) sao cho cuối cùng chỉ có 2 loại bức tranh, 2 bức tranh giống nhau là có thể hoán vị lô của bức tranh này để giống được bức tranh kia. Đếm số cách để chia theo yêu cầu trên.\n",
    "\n",
    "**Dữ liệu:** \n",
    "\n",
    "> Vào từ thiết bị nhập chuẩn:\n",
    "\n",
    ">> - Dòng đầu tiên chứa số nguyên dương $N(1 \\leq N \\leq 10^5)$ - độ dài con đê tương ứng với số lô,\n",
    "\n",
    ">> - Dòng thứ 2 các số nguyên dương $a_i( 1 \\leq i \\leq n)$ - màu của các lô $(1 \\leq a_i \\leq 50000) $ \n",
    "\n",
    "**Kết quả:** \n",
    "\n",
    ">  dòng đầu tiên chứa số nguyên m – số lượng phương án khác nhau chia con đường thành các bức tranh, nếu không có cách phân chia để đảm bảo phân biệt tranh của đúng 2 nhóm thì đưa ra số -1. Nếu có cách phân biệt thì ở mỗi dòng tiếp theo đưa ra 3 số nguyên k, p và q – độ rộng bức tranh, số tranh do nhóm 1 thực hiện và số tranh do nhóm 2 thực hiện, thông tin đưa ra theo thứ tự tăng dần của k và ở mỗi dòng có p ≥ q > 0.\n",
    "\n",
    "**Dữ liệu mẫu**:\n",
    "\n",
    "\\begin{array}{|c|c|}\n",
    "Input&Output\\\\ \\hline\n",
    "9 & 1\\\\\n",
    "1\\;2\\;3\\;6\\;4\\;9\\;3\\;1\\;2& 3\\;2\\;1\\\\\n",
    "\\end{array}\n"
   ]
  },
  {
   "cell_type": "markdown",
   "metadata": {},
   "source": [
    "# **Computational Thinking**"
   ]
  },
  {
   "cell_type": "markdown",
   "metadata": {},
   "source": [
    ">**Abstraction (Trừu tượng hóa)**\n",
    ">> Cho dãy **a** đếm số cách chia dãy làm K dãy con với độ dài bằng nhau sao cho chỉ còn 2 loại dãy con khác tính chất nhau, 2 dãy con X,Y cùng tính chất khi và chỉ khi tồn tại hoán vị X sao cho bằng Y "
   ]
  },
  {
   "cell_type": "markdown",
   "metadata": {},
   "source": [
    "> **Decomposision**\n",
    ">> Để kiểm tra dãy X có cùng tính chất với Y hay không ta chỉ cần xét xem tất cả các số trong dãy X, mỗi số có xuất hiện trong dãy X với cùng số lượng mà chúng xuất hiện trong Y hay không"
   ]
  },
  {
   "cell_type": "markdown",
   "metadata": {},
   "source": [
    "> **Pattern Recognition**\n",
    ">> Với bài toán quen thuộc này ta nghĩ ngay đến HASH(y hệt bài tuần trước):\n",
    ">> * Như đã trình bày ở tuần trước đó, ta đưa hệ cơ số 10 về hệ cơ số 50000 (**base**)\n",
    "\n",
    ">> * Đây chính là tư tưởng của thuật toán: đổi 2 dãy từ hệ cơ số **base**, rồi đem so sánh. Tuy nhiên, chúng ta nhận thấy rằng, khi đổi 1 xâu ra biểu diễn ở hệ cơ số **base**, biểu diễn này có thể rất lớn và nằm ngoài phạm vi lưu trữ số nguyên của máy tính.\n",
    "\n",
    ">> * Để khắc phục điều này, chúng ta chuyển sang so sánh 2 biểu diễn của 2 dãy ở hệ cơ số 10 sau khi lấy phần dư cho một số nguyên đủ lớn. Cụ thể hơn: nếu biểu diễn trong cơ số **base** của dãy a là x và biểu diễn trong cơ số **base** của dãy b là y, chúng ta sẽ coi a cùng tính chất b ‘khi và chỉ khi’ **x mod MOD** = **y mod MOD** trong đó **MOD** là một số nguyên đủ lớn (nếu giải thuật python có thể bỏ qua bước này vì python cho phép tính toán số lớn)\n",
    "\n",
    ">> * Để cài đặt ý tưởng này, chúng ta cần khởi tạo **base^x mod MOD** với **$(0 \\leq x \\leq base)$** và mã Hash của tất cả những tiền tố của X, cụ thể là mã Hash của những chuỗi $X[1..i]$ với $(1 \\leq i \\leq m)$.\n",
    "\n",
    ">> * Việc cuối cùng cần làm là duyệt K và xét xem có bao nhiêu số K thỏa theo yêu cầu đề bài."
   ]
  },
  {
   "cell_type": "markdown",
   "metadata": {},
   "source": [
    "> **Algorithmic Thinking**\n",
    ">> -[Trình bày giải thuật bằng python 3](https://github.com/khanh-moriaty/CS112.L11.KHTN/blob/master/week9/code/con_duong_gom_su.py)\n"
   ]
  }
 ],
 "metadata": {
  "kernelspec": {
   "display_name": "Python 3",
   "language": "python",
   "name": "python3"
  },
  "language_info": {
   "codemirror_mode": {
    "name": "ipython",
    "version": 3
   },
   "file_extension": ".py",
   "mimetype": "text/x-python",
   "name": "python",
   "nbconvert_exporter": "python",
   "pygments_lexer": "ipython3",
   "version": "3.8.2"
  }
 },
 "nbformat": 4,
 "nbformat_minor": 4
}