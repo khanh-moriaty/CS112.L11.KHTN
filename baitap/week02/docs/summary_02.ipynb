{
  "nbformat": 4,
  "nbformat_minor": 0,
  "metadata": {
    "kernelspec": {
      "display_name": "Python 3",
      "language": "python",
      "name": "python3"
    },
    "language_info": {
      "codemirror_mode": {
        "name": "ipython",
        "version": 2
      },
      "file_extension": ".py",
      "mimetype": "text/x-python",
      "name": "python",
      "nbconvert_exporter": "python",
      "pygments_lexer": "ipython2",
      "version": "2.7.6"
    },
    "colab": {
      "name": "summary_02.ipynb",
      "provenance": [],
      "collapsed_sections": []
    }
  },
  "cells": [
    {
      "cell_type": "markdown",
      "metadata": {
        "collapsed": false,
        "id": "9X430finLgLb"
      },
      "source": [
        "## **Tóm tắt bài giảng buổi học 17-09-2020**\n",
        "**Tóm tắt**\n",
        "- Áp dụng từng bước của tư duy máy tính vào 2 bài tập là Tảo Biển và Đếm sao.\n",
        "- Sau khi áp dụng tư duy máy tính, mọi người đã tìm ra hướng giải quyết bài Tảo Biển\n",
        "- Các nhóm phân chia ra chọn chủ để seminar.\n",
        "- Thầy phê bình các nhóm làm chưa tốt và tìm được 1 nhóm đạt yêu cầu.\n",
        "\n",
        "**Ghi chú**\n",
        "- Rút kinh nghiệm từ bài Tảo Biển, hãy thử các giá trị tăng dần vô đề bài biết đâu tìm được quy luật.\n",
        "- Khi đi thi ACM, đọc đề bài có khả năng làm được, sau đó code thử, quá 1 khoảng thời gian nhất định mà chưa giải được thì chuyển qua bài khác, cứ làm vậy cho tơi khi hết giờ.\n",
        "\n",
        "**Thảo luận**\n",
        "- Thảo luận bài đếm sao(cách xoay trục, loại bỏ điểm, ..)\n",
        "- Thảo luận các chiến lược làm bài khi tham gia các cuộc thi ACM\n",
        "\n"
      ]
    }
  ]
}