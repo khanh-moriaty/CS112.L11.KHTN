{
  "nbformat": 4,
  "nbformat_minor": 0,
  "metadata": {
    "kernelspec": {
      "display_name": "Python 3",
      "language": "python",
      "name": "python3"
    },
    "language_info": {
      "codemirror_mode": {
        "name": "ipython",
        "version": 3
      },
      "file_extension": ".py",
      "mimetype": "text/x-python",
      "name": "python",
      "nbconvert_exporter": "python",
      "pygments_lexer": "ipython3",
      "version": "3.8.2"
    },
    "colab": {
      "name": "tao_bien.ipynb",
      "provenance": [],
      "collapsed_sections": []
    }
  },
  "cells": [
    {
      "cell_type": "markdown",
      "metadata": {
        "id": "Au6wzwjxqgPd",
        "colab_type": "text"
      },
      "source": [
        "# Tảo biển\n",
        "\n",
        "**Đề bài**: Tảo biển sinh sản rất nhanh khi có môi trường thuận lợi với chúng và có những loài còn tiết ra môi trường những chất độc hại.\n",
        "\n",
        "Một loại tảo nâu trong môi trường nước bị ô nhiễm nặng sinh sản theo quy luật sau:\n",
        "\n",
        "- Ngày đầu tiên (ngày 0) có n cá thể ở mức 1,\n",
        "- Ở mỗi ngày tiếp theo, mỗi cá thể mức i sinh ra i cá thể mức 1, các cá thể mới sinh sẽ sinh sôi, phát triển từ ngày hôm sau.\n",
        "- Bản thân các cá thể mức i phát triển thành mức i+1 và chu kỳ phát triển trong ngày chấm dứt.\n",
        "Hãy xác định sau k ngày trong nước biển có bao nhiêu cá thể.\n",
        "\n",
        "**Dữ liệu**: Vào từ thiết bị nhập chuẩn gồm một dòng chứa 2 số nguyên n và k (1 ≤ n ≤ 1000, 1 ≤ k ≤ 10^18).\n",
        "\n",
        "**Kết quả**: Đưa ra thiết bị xuất chuẩn một số nguyên – số lượng cá thể  tảo theo mô đun 10^9+7.\n",
        "\n",
        "\n"
      ]
    },
    {
      "cell_type": "markdown",
      "metadata": {
        "id": "ZDLRxDAQqwLr",
        "colab_type": "text"
      },
      "source": [
        "**Decomposition**\n",
        "\n",
        "Từ dữ kiện của bài toán, ta rút ra được lưu ý quan trọng sau:\n",
        "- Số cá thể ở mức _i_ ngày thứ _t_ bằng số cá thể ở mức _i+1_ ngày thứ _t+1_\n",
        "\n",
        "Để dễ hình dung, các bạn có thể nhìn vào bảng sau:\n",
        "\n",
        "| Ngày\\Mức | k+1 | k | ... | 6 | 5 | 4  | 3  | 2   | 1   | Tổng số tảo biển |\n",
        "|----------|-----|---|-----|---|---|----|----|-----|-----|------------------|\n",
        "| 0        |     |   |     |   |   |    |    |     | n   | n                |\n",
        "| 1        |     |   |     |   |   |    |    | n   | n   | 2n               |\n",
        "| 2        |     |   |     |   |   |    | n  | n   | 3n  | 5n               |\n",
        "| 3        |     |   |     |   |   | n  | n  | 3n  | 8n  | 13n              |\n",
        "| 4        |     |   |     |   | n | n  | 3n | 8n  | 21n | 34n              |\n",
        "| 5        |     |   |     | n | n | 3n | 8n | 21n | 55n | 89n              |\n",
        "| ...      |     |   |     |   |   |    |    |     |     |                  |\n",
        "| k        | n   | n | ... |   |   |    |    |     |     | ?                |\n",
        "\n",
        "Bằng quan sát, ta có thể nhận ra rằng **tổng số tảo biển vào ngày thứ _t_** bằng với **tổng số tảo biển ở mức 1 tới ngày thứ _t_**, **Tổng số tảo biển vào ngày thứ _t_** bằng với **Tổng số tảo biển ở mức 1 của ngày thứ _t_** cộng với **Tổng số tảo biển vào ngày thứ _t-1_**\n",
        "Từ đây, ta sẽ đưa bài toán ban đầu thành bài toán:\n",
        "- Tìm số tảo biển ở mức 1 vào ngày thứ _t_(1<=_t_<=k) => Tìm tổng số tảo biển ở mức 1 tới ngày thứ _t_\n",
        "\n",
        "Nếu tinh ý, các bạn có thể nhận thấy rằng các hệ số của số tảo biển ở mức 1 khá là quen thuộc, làm chúng ta liên tưởng ngay tới dãy số Fibonacci nổi tiếng 1,1,2,3,5,8,13,21,34,55,89,...\n",
        "\n",
        "Ta có nhận xét:\n",
        "\n",
        "- Các hệ số của số tảo biển ở mức 1 hình như là các số ở vị trí chẵn của dãy số Fibonacci\n",
        "- Các hệ số của số tảo biển của Tổng số tảo biển hình như là các số ở vị trí lẻ của dãy số Fibonacci\n",
        "\n",
        "Để đảm bảo nhận định trên là hoàn toàn đúng, ta sẽ đi vào chứng minh:\n",
        "\n",
        "- Xét dãy số f(i) là số tảo biển ở mức 1 vào ngày thứ _i_ (dãy số này có thể dễ dàng rút ra từ dữ kiện đề bài):\n",
        "\n",
        "$$f(1)=n$$\n",
        "$$f(2)=3n$$\n",
        "$$f(k)=\\displaystyle\\sum_{i=1}^{k} if(k-i)$$\n",
        "    \n",
        "\n",
        "\n",
        "- Ta có $$f(k)=\\displaystyle\\sum_{i=1}^{k} if(k-i)$$ và $$f(k-1)=\\displaystyle\\sum_{i=1}^{k-1} if(k-i)$$ Suy ra $$f(k)-f(k-1)=\\displaystyle\\sum_{i=1}^{k} f(k-i)$$ Ta cũng có $$f(k-1)-f(k-2)=\\displaystyle\\sum_{i=1}^{k-1} f(k-i)$$ Suy ra $$f(k)-f(k-1)-f(k-1)+f(k-2)=f(k-1)$$ hay $$f(k)=3f(k-1)-f(k-2)$$ \n",
        "\n",
        "- Mặt khác, xét dãy số Fibonacci:$$F(1)=F(2)=n$$ $$F(3)=2n$$ $$F(4)=3n$$ $$F(k)=F(k-1)+F(k-2)$$ Ta có $$F(k-2)=F(k-3)+F(k-4)$$ Suy ra $$F(k)-F(k-2)=F(k-1)-F(k-3)+F(k-2)-F(k-4)$$ hay $$F(k)=3F(k-2)-F(k-4)$$\n",
        "\n",
        "=> Các hệ số của số tảo biển ở mức 1 hình như là các số ở vị trí chẵn của dãy số Fibonacci -> Dễ dàng chứng minh Các hệ số của số tảo biển của Tổng số tảo biển hình như là các số ở vị trí lẻ của dãy số Fibonacci (từ quan sát thứ 2)\n",
        "\n",
        "\n"
      ]
    },
    {
      "cell_type": "markdown",
      "metadata": {
        "id": "YNa18sm_qzel",
        "colab_type": "text"
      },
      "source": [
        "**Abstraction**\n",
        "\n",
        "Sau một hồi phân tích, ta có thể trừu tượng hóa bài toán trên thành:\n",
        "\n",
        "Cho cặp số (n,k), tìm số Fibonacci thứ 2k+1 biết F(1)=n\n"
      ]
    },
    {
      "cell_type": "markdown",
      "metadata": {
        "id": "SAUxMB0NryKI",
        "colab_type": "text"
      },
      "source": [
        "\n",
        "**Pattern Recognition**\n",
        "\n",
        "Xét dãy số g(i) là Tổng số tảo biển ngày thứ _i_\n",
        "$$g(1)=2n$$\n",
        "$$g(2)=5n$$\n",
        "$$g(k)=3g(k-1)-g(k-2)$$\n",
        "\n",
        "Ta có thể dùng phương pháp nhân ma trận để giải quyết bài toán này, cụ thể:\n",
        "$$g(k-1)=0g(k-2)+1g(k-1)$$\n",
        "$$g(k)=-1g(k-2)+3g(k-1)$$\n",
        "Suy ra \n",
        "$$\\begin{bmatrix}g(k-1)\\\\g(k)\\end{bmatrix} = \\begin{bmatrix}0 & 1\\\\-1 & 3\\end{bmatrix}\\times\\begin{bmatrix}g(k-2)\\\\g(k-1)\\end{bmatrix}$$\n",
        "Suy ra\n",
        "$$\\begin{bmatrix}g(k-1)\\\\g(k)\\end{bmatrix} = \\begin{bmatrix}0 & 1\\\\-1 & 3\\end{bmatrix}^{k-2}\\times\\begin{bmatrix}g(1)\\\\g(2)\\end{bmatrix}$$\n"
      ]
    },
    {
      "cell_type": "markdown",
      "metadata": {
        "id": "1UiPt5bPr1QB",
        "colab_type": "text"
      },
      "source": [
        "\n",
        "**Algorithmic Thinking**\n",
        "\n",
        "[Thuật toán được lập trình bằng ngôn ngữ Python.](https://github.com/khanh-moriaty/CS112.L11.KHTN/blob/master/week2/code/tao_bien.py)"
      ]
    },
    {
      "cell_type": "code",
      "metadata": {
        "id": "5AGkZvzxqgPe",
        "colab_type": "code",
        "colab": {
          "base_uri": "https://localhost:8080/",
          "height": 55
        },
        "outputId": "4541fbb1-d07b-4805-8362-402248f6427a"
      },
      "source": [
        "import sys\n",
        "sys.setrecursionlimit(10**6)\n",
        "\n",
        "def matmul(a,b):\n",
        "    c = [[0,0],[0,0]]\n",
        "    c[0][0] = a[0][0] * b[0][0] + a[0][1] * b[1][0]\n",
        "    c[0][1] = (a[0][0] * b[0][1] + a[0][1] * b[1][1]) % (10**9+7)\n",
        "    c[1][0] = a[1][0] * b[0][0] + a[1][1] * b[1][0]\n",
        "    c[1][1] = (a[1][0] * b[0][1] + a[1][1] * b[1][1]) % (10**9+7)\n",
        "    return c\n",
        "\n",
        "def mu(x, k):\n",
        "    if k == 0:\n",
        "        return [[1, 0], [0, 1]]\n",
        "    t = mu(x, k//2)\n",
        "    t = matmul(t, t)\n",
        "    if k % 2 == 0:\n",
        "        return t\n",
        "    return matmul(t,x)\n",
        "\n",
        "n, k = [int(x) for x in input().split()]\n",
        "\n",
        "if k == 2:\n",
        "    print(5*n)\n",
        "elif k == 1:\n",
        "    print(2*n)\n",
        "else: \n",
        "    arr = [[0, 1], [-1, 3]]\n",
        "    a = mu(arr, k-2)\n",
        "\n",
        "    b = [[2, 0], [5, 0]]\n",
        "    a = matmul(a, b)\n",
        "    print(a[1][0] * n % (10**9+7))"
      ],
      "execution_count": 5,
      "outputs": [
        {
          "output_type": "stream",
          "text": [
            "3 2\n",
            "15\n"
          ],
          "name": "stdout"
        }
      ]
    }
  ]
}
