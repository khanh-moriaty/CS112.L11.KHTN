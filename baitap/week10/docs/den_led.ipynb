{
 "cells": [
  {
   "cell_type": "markdown",
   "metadata": {},
   "source": [
    "\n",
    "# **Team N008**\n",
    "\n",
    "# **Nguyễn Minh Huy**\n",
    "\n",
    "# **19520109**\n",
    "\n",
    "# **Hồ Chung Đức Khánh** \n",
    "\n",
    "# **19520624**\n",
    "\n",
    "# **Võ Minh Hiếu**\n",
    "\n",
    "# **19520084** "
   ]
  },
  {
   "cell_type": "markdown",
   "metadata": {},
   "source": [
    "# Đèn LED\n",
    "**Đề bài**\n",
    "\n",
    "> Alice vừa hoàn thành một hợp đồng lắp bảng hiển thị số bằng đèn LED. Mỗi chữ số được hiển thị trong một khung chữ nhật với 7 ống đèn LED. Bằng cách bật các ống đèn LED thích hợp ta có thể hiển thị chữ số bất kỳ. Số đèn sáng càng nhiều thì việc hiển thị chữ số đó càng tốn năng lượng. Ví dụ, hiển thị chữ số 9 sẽ tốn năng lượng hơn hiển thị chữ số 7.\n",
    "\n",
    "> Sau khi bàn giao sản phẩm trong tay Alice còn thừa lại một số khá nhiều các khung hiển thị số và một cục pin nguồn. Dung lượng pin cho phép bật sáng ***n*** ống đèn LED. Alice muốn dùng pin bật đúng ***n*** ống đèn để hiển thị một số và số hiển thị được phải có tổng chữ số là lớn nhất.\n",
    "\n",
    "Hãy xác định tổng lớn nhất của các chữ số của số có thể bật sáng.\n",
    "\n",
    "**Dữ liệu:** \n",
    "\n",
    "> Vào từ thiết bị nhập chuẩn gồm một dòng chứa số nguyên ***n*** (2 ≤ ***n*** ≤ $10^6$). \n",
    "\n",
    "**Kết quả:** \n",
    "\n",
    "> Đưa ra thiết bị xuất chuẩn một số nguyên – tổng lớn nhất đạt được.\n",
    "\n",
    "**Dữ liệu mẫu**:\n",
    "\n",
    "\\begin{array}{|c|c|}\n",
    "Input&Output\\\\ \\hline\n",
    "7 & 11\n",
    "\\end{array}"
   ]
  },
  {
   "cell_type": "markdown",
   "metadata": {},
   "source": [
    "# **Computational Thinking**"
   ]
  },
  {
   "cell_type": "markdown",
   "metadata": {},
   "source": [
    ">**Abstraction (Trừu tượng hóa)**\n",
    ">> Cho **_n_** que diêm, xác định tổng lớn nhất của các số được tạo từ ***n*** que diêm."
   ]
  },
  {
   "cell_type": "markdown",
   "metadata": {},
   "source": [
    "> **Decomposision (Phân rã)**\n",
    ">> Với các trường hợp ***n*** nhỏ, ta có các kết quả sau:\n",
    "\\begin{array}{|c|c|}\n",
    "Input&Output\\\\ \\hline\n",
    "2 & 1 \\\\\n",
    "3 & 7 \\\\\n",
    "4 & 4 \\\\\n",
    "5 & 8 \\\\\n",
    "6 & 14 \\\\\n",
    "7 & 11 \\\\\n",
    "8 & 15 \\\\\n",
    "9 & 21 \n",
    "\\end{array}\n",
    "\n",
    ">> Ta để ý rằng, chỉ với 3 que diêm ta được 1 số 7. Theo cảm giác thì số 7 có lẽ là lựa chọn tốt nhất để đầu tư que diêm cho nó, để đạt được tổng là lớn nhất. \n",
    "\n",
    ">>Vậy thuật toán chúng ta sẽ \"tham lam\" lựa chọn càng nhiều số 7 càng tốt."
   ]
  },
  {
   "cell_type": "markdown",
   "metadata": {},
   "source": [
    "> **Pattern recognition (Tìm quy luật)**\n",
    "\n",
    ">> Với ***n*** chia hết cho 3, tổng lớn nhất sẽ là $\\frac{n}{3}*7$\n",
    "\n",
    ">> Với ***n*** chia 3 dư 2, 2 que diêm dư ấy sẽ tạo thành số 1. Khi đó tổng lớn nhất sẽ là $\\frac{n}{3}*7+1$\n",
    "\n",
    ">> Với ***n*** chia 3 dư 1, 1 que diêm không thể tạo thành số gì. Vì vậy ta sẽ lấy bớt 3 diêm tạo thành số 7 để tạo thành số 4. Khi đó tổng lớn nhất sẽ là $\\frac{n-3}{3}*7+4$"
   ]
  },
  {
   "cell_type": "markdown",
   "metadata": {},
   "source": [
    "> **Algorithmic Thinking (trình bày giải thuật)**\n",
    ">> -[Trình bày giải thuật bằng python 3](https://github.com/khanh-moriaty/CS112.L11.KHTN/blob/master/week10/code/den_led.py)\n"
   ]
  }
 ],
 "metadata": {
  "kernelspec": {
   "display_name": "Python 3",
   "language": "python",
   "name": "python3"
  },
  "language_info": {
   "codemirror_mode": {
    "name": "ipython",
    "version": 3
   },
   "file_extension": ".py",
   "mimetype": "text/x-python",
   "name": "python",
   "nbconvert_exporter": "python",
   "pygments_lexer": "ipython3",
   "version": "3.8.2"
  }
 },
 "nbformat": 4,
 "nbformat_minor": 4
}