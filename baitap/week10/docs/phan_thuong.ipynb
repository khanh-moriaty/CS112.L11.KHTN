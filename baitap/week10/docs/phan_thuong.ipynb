{
  "nbformat": 4,
  "nbformat_minor": 0,
  "metadata": {
    "colab": {
      "name": "so_nguyen_moi.ipynb",
      "provenance": []
    },
    "kernelspec": {
      "name": "python3",
      "display_name": "Python 3"
    }
  },
  "cells": [
    {
      "cell_type": "markdown",
      "metadata": {
        "id": "VM2IqYZSWOe4"
      },
      "source": [
        "\n",
        "# **Team N008**\n",
        "\n",
        "# **Nguyễn Minh Huy**\n",
        "\n",
        "# **19520109**\n",
        "\n",
        "# **Hồ Chung Đức Khánh** \n",
        "\n",
        "# **19520084**\n",
        "\n",
        "# **Võ Minh Hiếu**\n",
        "\n",
        "# **19520624** "
      ]
    },
    {
      "cell_type": "markdown",
      "metadata": {
        "id": "T7uWEx23WQc2"
      },
      "source": [
        "# Phần thưởng\n",
        "**Đề bài**\n",
        "> Harry và Hermione thắng cuộc trong một trò chơi truyền hình và bây giờ là giai đoạn trao thưởng. Quy tắc trao thưởng là như sau: có n phần thưởng xếp thành một hàng dài, đánh số từ 1 đến n. Tùy thuộc vào số điểm đã đạt được của cặp chơi, người dẫn chương trình sẽ nói một số $k (1 \\leq k \\leq n/3)$. Một người chơi sẽ chọn cho mình k phần thưởng xếp liên tiếp nhau, người thứ hai cũng sẽ chọn cho mình k phần thưởng xếp liên tiếp nhau trong số còn lại. Hermione là nữ nên được ưu tiên chọn trước.\n",
        "\n",
        "> Trò chơi đã kết thúc. Bây giờ không cần phải đồng tâm hiệp lực. Hermione vẫn còn rất giận Harry về một câu nói vô tâm mà chắc bây giờ Harry cũng không nhớ là mình nói cái gì và khi nào. Hermione hiểu rất rõ giá trị mỗi phần thưởng đối với Harry, cụ thể là phần thưởng thứ i sẽ có giá trị $a_i$, i=  1 $\\Rightarrow$ n và quyết định cách chọn của mình sao cho tổng giá trị phần thưởng mà Harry có thể đạt được càng nhỏ càng tốt. Về tổng giá trị phần thưởng của mình, Hermione không mảy may quan tâm!\n",
        "\n",
        "Hãy xác định x – tổng nhỏ nhất giá trị phần thưởng mà Hermione có thể chọn để Harry không có cách chọn phần thưởng với tổng giá trị lớn hơn x.\n",
        "> \n",
        "\n",
        "**Dữ liệu:** \n",
        "\n",
        "> Dòng đầu tiên chứa 2 số nguyên n và k (3 $\\leq$ n $\\leq 10^5$, 1 $\\leq$ k $\\leq n/3$),\n",
        "> Dòng thứ 2 chứa n số nguyên $a_1, a_2, . . ., a_n$ (1 $\\leq$ $a_i$ $\\leq$ $10^9$, i = 1 $\\Rightarrow$ n). \n",
        "\n",
        "**Kết quả:** \n",
        "\n",
        "> Đưa ra thiết bị xuất chuẩn số nguyên ***x*** tìm được\n",
        "\n",
        "**Dữ liệu mẫu**:\n",
        "\n",
        "\\begin{array}{|c|c|}\n",
        "Input&Output\\\\ \\hline\n",
        "10 \\ 2 & 7 \\\\\n",
        "1\\ 2\\ 4\\ 5\\ 2\\ 4\\ 2\\ 2\\ 1\\ 6 & \n",
        "\\end{array}"
      ]
    },
    {
      "cell_type": "markdown",
      "metadata": {
        "id": "cYNfEibxW_YP"
      },
      "source": [
        "# **Computational Thinking**"
      ]
    },
    {
      "cell_type": "markdown",
      "metadata": {
        "id": "1_proOXuXQX4"
      },
      "source": [
        ">**Abstraction (Trừu tượng hóa)**\n",
        ">> Cho N số nguyên dương $a_1,a_2,...,a_n$ và số nguyên K, hãy tìm đoạn con $b_i,b_i+1 ... b_i+k-1$ sao cho  $ \\sum_{i}^{i+k} b_i $ là lớn nhất sau khi bỏ đi 1 đoạn con khác độ dài K bất kì."
      ]
    },
    {
      "cell_type": "markdown",
      "metadata": {
        "id": "mj4xVQE0Xjjo"
      },
      "source": [
        "> **Decomposision (Phân rã)**\n",
        ">> Khi tiếp cận bài toán này, ta sẽ nghĩ tới một số chú ý sau:\n",
        "- Nếu gọi vị trí bắt đầu và kết thúc của đoạn con cần bỏ là $l$ và $r$ thì kết quả của bài toán là tổng của đoạn con có tổng lớn nhất nằm trong khoảng $[1..l]$ và $[r..n]$\n",
        "- Ta nghĩ đến việc tiền xử lí dữ liệu trước khi đưa vào tính toán, để giảm chi phí thời gian\n"
      ]
    },
    {
      "cell_type": "markdown",
      "metadata": {
        "id": "qpikGAgyXt_Y"
      },
      "source": [
        "> **Pattern recognition (Tìm quy luật)**\n",
        "\n",
        ">> Những mảng tiền xử lí gồm có $s_i$ - tổng tiền tố từ $[1 \\Rightarrow i]$, $left_i$ - tống của đoạn con độ dài K lớn nhất  $[1 \\Rightarrow i]$, $right_i$ - tống của đoạn con độ dài K lớn nhất  $[i \\Rightarrow n]$ vậy kết quả của bài toán là $max(left[i],right[i+k])$ với i thuộc từ $k$ đến $n-k$ \n",
        "\n",
        ">> mảng $s$ được tạo bởi công thức $s[i] = s[i-i] + a[i]$\n",
        "\n",
        ">> mảng $left$ được tảo bởi công thức $left[i] = max(left[i-1],s[i]-s[i-k])$, so sánh tổng của đoạn con lớn nhất từ $1 \\Rightarrow i-1$\n",
        "\n",
        ">> tương tự, ta được mảng $right$"
      ]
    },
    {
      "cell_type": "markdown",
      "metadata": {
        "id": "iNX9weRDXwcQ"
      },
      "source": [
        "> **Algorithmic Thinking (trình bày giải thuật)**\n",
        ">> -[Trình bày giải thuật bằng python 3](https://github.com/khanh-moriaty/CS112.L11.KHTN/blob/master/week9/code/so_nguyen_moi.py)\n"
      ]
    }
  ]
}