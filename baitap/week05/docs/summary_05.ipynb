{
  "nbformat": 4,
  "nbformat_minor": 0,
  "metadata": {
    "kernelspec": {
      "display_name": "Python 3",
      "language": "python",
      "name": "python3"
    },
    "language_info": {
      "codemirror_mode": {
        "name": "ipython",
        "version": 2
      },
      "file_extension": ".py",
      "mimetype": "text/x-python",
      "name": "python",
      "nbconvert_exporter": "python",
      "pygments_lexer": "ipython2",
      "version": "2.7.6"
    },
    "colab": {
      "name": "summary_04.ipynb",
      "provenance": [],
      "collapsed_sections": []
    }
  },
  "cells": [
    {
      "cell_type": "markdown",
      "metadata": {
        "collapsed": false,
        "id": "9X430finLgLb"
      },
      "source": [
        "## **Tóm tắt bài giảng buổi học 7-10-2020**\n",
        "**Tóm tắt**\n",
        "- Điểm danh đầu giờ\n",
        "- KHTN2018 họp xét điểm rèn luyện \n",
        "- Giải bài tập **Khóa số** và **Cyclick Isomorphism**\n",
        "- Nhóm 5 thuyết trình về độ phức tạp thuật toán  \n",
        "- Đặt câu hỏi\n",
        "- Làm Quiz\n",
        "\n",
        "**Ghi chú**\n",
        "- Độ phức tạp về thời gian riêng biệt với không gian, mỗi khi thiết kế thuật toán chúng ta đều phải đánh giá cả 2 .\n",
        "- Đặt câu hỏi trước rồi mới giải thích câu hỏi sau \n",
        "\n",
        "**Thảo luận**\n",
        "- Thảo luận thêm về độ phức tạp, cách đánh giá lý thuyết với thực nghiệm.\n",
        "- Thảo luận về Quiz.\n"
      ]
    }
  ]
}