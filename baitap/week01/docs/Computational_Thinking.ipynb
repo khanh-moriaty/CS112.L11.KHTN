{
  "nbformat": 4,
  "nbformat_minor": 0,
  "metadata": {
    "colab": {
      "name": "Computational Thinking",
      "provenance": [],
      "collapsed_sections": [],
      "toc_visible": true
    },
    "kernelspec": {
      "name": "python3",
      "display_name": "Python 3"
    }
  },
  "cells": [
    {
      "cell_type": "markdown",
      "metadata": {
        "id": "Kk3G0cjUxoL3",
        "colab_type": "text"
      },
      "source": [
        "# Computational Thinking (Tư duy máy tính)"
      ]
    },
    {
      "cell_type": "markdown",
      "metadata": {
        "id": "x4fEsudXefq9",
        "colab_type": "text"
      },
      "source": [
        "Tư duy máy tính là các quá trình tư duy bao gồm cả mô tả và lời giải bài toán sao cho lời giải có thể được thực hiện một cách hiệu quả bởi các tác tử xử lý thông tin, là kỹ năng rất cơ bản để chúng ta có thể hiểu, biết một cách có lý, logic về thế giới xung quanh dựa trên sức mạnh của máy tính."
      ]
    },
    {
      "cell_type": "markdown",
      "metadata": {
        "id": "ctEQpTnke7s5",
        "colab_type": "text"
      },
      "source": [
        "Tư duy máy tính được tạo nên từ bốn yếu tố đóng vai trò như bốn bước để đi tới giải pháp cho vấn đề:\n",
        "\n",
        "\n",
        "1.   Abstraction\n",
        "2.   Decomposition\n",
        "3.   Pattern Recognition\n",
        "4.   Algorithmic Thinking\n",
        "\n",
        "Cụ thể, chúng ta hãy tìm hiểu sâu vào từng yếu tố trên để hiểu rõ thêm.\n",
        "\n"
      ]
    },
    {
      "cell_type": "markdown",
      "metadata": {
        "id": "J3Aif39liTD7",
        "colab_type": "text"
      },
      "source": [
        "Lấy ví dụ bài toán BOT tại https://khmt.uit.edu.vn/laptrinh/cs112-2021/view_problem/1"
      ]
    },
    {
      "cell_type": "markdown",
      "metadata": {
        "id": "7Al98xNPibYq",
        "colab_type": "text"
      },
      "source": [
        "## Abstraction (Trừu tượng hóa)\n",
        "\n",
        "Bài toán được đưa ra có thể được thể hiện bởi rất nhiều câu chữ và nhiều dữ kiện không liên quan. Vai trò của Abstraction là trừu tượng và đơn giản hóa bài toán bằng các câu từ dễ hiểu và rõ ràng hơn.\n",
        "\n",
        "Ví dụ, bài toán trên có thể được trừu tượng hóa lại như sau:\n",
        "\n",
        "\n",
        "Cho một dãy số $a$ gồm $n$ phần tử, tìm cặp số $(i, j)$ sao cho biểu thức sau đạt giá trị lớn nhất.\n",
        "\n",
        "> $S_{i,j}$ = $a_{i}$ + $a_{i+1}$ + ... + $a_{j-1}$ + $a_{j}$\n",
        "\n",
        "\n",
        "\n"
      ]
    },
    {
      "cell_type": "markdown",
      "metadata": {
        "id": "dE7pSL5glnRf",
        "colab_type": "text"
      },
      "source": [
        "## Decomposition (Phân rã)\n",
        "\n",
        "Đối với các bài toán phức tạp, chúng ta không thể giải quyết cả bài toán cùng lúc được mà đòi hỏi phải phân rã nó thành các bài toán con nhỏ hơn, từ đó bắt tay vào giải quyết từng bài toán nhỏ.\n",
        "\n",
        "Ví dụ, bài toán trên có thể được phân rã thành:\n",
        "* Tìm tất cả các cặp số $(i, j)$ hợp lệ.\n",
        "* Với mỗi cặp $(i, j)$ cho trước, tính tổng $S_{i,j}$.\n",
        "* Xác định tổng $S_{i,j}$ nào lớn nhất và xem nó tương ứng với cặp $(i, j)$ nào.\n",
        "\n"
      ]
    },
    {
      "cell_type": "markdown",
      "metadata": {
        "id": "WYiCm1vvni3c",
        "colab_type": "text"
      },
      "source": [
        "## Pattern Recognition (Tìm quy luật)\n",
        "\n",
        "Trong quá trình giải quyết vấn đề đôi khi sẽ ẩn chứa các quy luật - những phép tính và công thức xuất hiện lặp đi lặp lại. Xác định được các quy luật này chính là chìa khóa then chốt để giải quyết vấn đề.\n",
        "\n",
        "Ví dụ, bài toán trên sau khi phân rã có thể phân tích các quy luật như sau:\n",
        "* Khi tính tổng $S_{i,j}$ cho cặp số $(i, j)$, chúng ta có thể dùng lại kết quả của $S_{1,i-1}$ và $S_{1,j}$.\n",
        "* Cụ thể: \n",
        "\n",
        "\\begin{align}\n",
        "S_{i,j} &= a_{i} + a_{i+1} + ... + a_{j-1} + a_{j} \\\\\n",
        "&= (a_{1} + a_{2} + ... + a_{j-1} + a_{j}) - (a_{1} + a_{2} + ... + a_{i-2} + a_{i-1}) \\\\\n",
        "&= S_{1,j} - S_{1,i-1}\n",
        "\\end{align}\n",
        "\n",
        "* Vậy trong quá trình giải quyết bài toán, ta chỉ cần tính $S_{1,1}, S_{1,2}, ..., S_{1,n}$ thay vì $S_{i,j}$ với mọi cặp $(i, j)$.\n"
      ]
    },
    {
      "cell_type": "markdown",
      "metadata": {
        "id": "aa8dTLNxuWcr",
        "colab_type": "text"
      },
      "source": [
        "## Algorithmic Thinking (Trình bày giải thuật)\n",
        "\n",
        "Sau khi xác định được giải pháp cho vấn đề, giải pháp đó có thể được sử dụng lại nhiều lần cho các vấn đề tương tự. Bước cuối cùng khi giải quyết một vấn đề theo hướng Tư duy máy tính đó là tìm cách biểu diễn các thuật toán hay lời giải dưới dạng các câu lệnh để máy tính có thể hiểu được và có thể thực thi lại một cách dễ dàng hiệu quả. \n",
        "\n",
        "Bước này đòi hỏi người lập trình phải am hiểu về các phương pháp lập trình cũng như cấu trúc dữ liệu để có thể biểu diễn thuật toán sao cho máy tính có thể hiểu và thực hiện các phép toán nhanh chóng và hiệu quả nhất.\n",
        "\n",
        "Ví dụ, lời giải cho bài toán trên được lập trình bằng ngôn ngữ Python:\n",
        "> https://github.com/khanh-moriaty/CS112.L11.KHTN/blob/master/week1/docs/res/BOT.py"
      ]
    }
  ]
}