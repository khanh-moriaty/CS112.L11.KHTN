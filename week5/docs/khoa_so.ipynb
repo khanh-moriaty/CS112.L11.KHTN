{
 "cells": [
  {
   "cell_type": "markdown",
   "metadata": {},
   "source": [
    "# Khóa số\n",
    "**Đề bài**\n",
    "\n",
    "> Để tăng độ an toàn chống hiện tượng cướp ngân hàng ngày càng phổ biến người ta dùng khóa số với mã mở khóa đơn giản nhưng rất hiệu quả. Trên cửa ra vào hiển thị một xâu khá dài các ký tự số. Các chữ số có thể di chuyển đổi chổ cho nhau hoặc bị xóa. Muốn mở khóa người ta phải di chuyển các chữ số và trong trường hợp cần thiết – xóa vài chữ số để nhận được _xâu lớn nhất_ thỏa mãn điều kiện đã cài đặt. Điều kiện này được thay đổi thường xuyên. Hôm nay điều kiện đó là “Số nhận được phải chia hết cho 3”. Số nhận được có thể bắt đầu bằng các chữ số 0. Xâu “000” sẽ lớn hơn xâu “00”.\n",
    "<br> <br> Hãy xác định khóa mở cửa.\n",
    "\n",
    "**Dữ liệu** \n",
    "> Vào từ thiết bị nhập chuẩn gồm một xâu ký tự số có độ dài lớn hơn 2 và không vượt quá $10^5$.\n",
    "\n",
    "**Kết quả** \n",
    "> Đưa ra thiết bị xuất chuẩn xâu khóa mở cửa.\n",
    "\n",
    "**Ví dụ**\n",
    "\\begin{array}{|c|c|}\n",
    "Input&Output\\\\ \\hline\n",
    "105 & 510\n",
    "\\end{array}"
   ]
  },
  {
   "cell_type": "markdown",
   "metadata": {},
   "source": [
    "# **Computational Thinking**"
   ]
  },
  {
   "cell_type": "markdown",
   "metadata": {},
   "source": [
    "> **Abtraction**\n",
    ">> Với dãy các số nguyên từ 0 tới 9 cho trước, hãy tạo thành số tự nhiên lớn nhất bằng cách ghép, sắp xếp (có thể bỏ đi 1 vài số) thỏa điều kiện số tự nhiên này chia hết cho 3."
   ]
  },
  {
   "cell_type": "markdown",
   "metadata": {},
   "source": [
    "> **Decomposision**\n",
    ">> Đối với bài toán này, ta có nhận xét:<br>\n",
    ">> - Nhận xét 1: <br>\n",
    ">>> Vì output là một số chia hết cho 3, nên tổng các chữ số của output chia hết cho 3. Từ đây, ta xét tổng (ta đặt là $sum$) của các số nguyên đã cho trước.\n",
    ">>> Ta có 3 trường hợp để xử lý:\n",
    ">>> - $sum \\equiv 0 \\pmod 3$\n",
    ">>> - $sum \\equiv 1 \\pmod 3$\n",
    ">>> - $sum \\equiv 2 \\pmod 3$\n",
    ">> - Nhận xét 2: <br>\n",
    ">>> Để output là số lớn nhất thì các chữ số của output này giảm dần theo chiều trái sang phải"
   ]
  },
  {
   "cell_type": "markdown",
   "metadata": {},
   "source": [
    "> **Pattern Recognition**\n",
    ">> Với trường hợp  $sum \\equiv 0 \\pmod 3$, output chính là số được tạo bởi các chữ số ban đầu, theo thứ tự giảm dần từ trái sang phải\n",
    ">> Với trường hợp $sum \\equiv 1 \\pmod 3$, ta sẽ bỏ đi 1 số _t_ nhỏ nhất nằm trong các số ban đầu thỏa $t \\equiv 0 \\pmod 3$. Nếu như trong dãy không có số _t_ nào thỏa $t \\equiv 0 \\pmod 3$ thì ta sẽ bỏ đi 2 số _u_ và _v_ nhỏ nhất trong các số ban đầu thỏa $u \\equiv 2 \\pmod 3$ và $u \\equiv 2 \\pmod 3$. Khi đó, $sum_{new} \\equiv 0 \\pmod 3$"
   ]
  },
  {
   "cell_type": "markdown",
   "metadata": {},
   "source": [
    "> **Algorithmic Thinking**\n",
    ">> -[Trình bày giải thuật bằng python 3](https://github.com/khanh-moriaty/CS112.L11.KHTN/blob/master/week5/code/khoa_so.py)\n"
   ]
  },
  {
   "cell_type": "code",
   "execution_count": null,
   "metadata": {},
   "outputs": [],
   "source": []
  }
 ],
 "metadata": {
  "kernelspec": {
   "display_name": "Python 3",
   "language": "python",
   "name": "python3"
  },
  "language_info": {
   "codemirror_mode": {
    "name": "ipython",
    "version": 3
   },
   "file_extension": ".py",
   "mimetype": "text/x-python",
   "name": "python",
   "nbconvert_exporter": "python",
   "pygments_lexer": "ipython3",
   "version": "3.8.2"
  }
 },
 "nbformat": 4,
 "nbformat_minor": 4
}
