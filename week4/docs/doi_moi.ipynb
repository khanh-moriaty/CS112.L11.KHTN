{
  "nbformat": 4,
  "nbformat_minor": 0,
  "metadata": {
    "colab": {
      "name": "WatterS.ipynb",
      "provenance": [],
      "collapsed_sections": []
    },
    "kernelspec": {
      "name": "python3",
      "display_name": "Python 3"
    }
  },
  "cells": [
    {
      "source": [
        "\n",
        "# **Team N008**\n",
        "\n",
        "# **Nguyễn Minh Huy**\n",
        "\n",
        "# **19520109**\n",
        "\n",
        "# **Hồ Chung Đức Khánh** \n",
        "\n",
        "# **19520624**\n",
        "\n",
        "# **Võ Minh Hiếu**\n",
        "\n",
        "# **19520084** "
      ],
      "cell_type": "code",
      "metadata": {
        "id": "5q9PGaZu-Yty"
      },
      "execution_count": null,
      "outputs": []
    },
    {
      "cell_type": "markdown",
      "metadata": {
        "id": "dEkym2jJ4-UR"
      },
      "source": [
        "# ĐỔI MỚI\n",
        "**Đề bài**:\n",
        "> Thành phố quyết định chặt hạ hết $n$ cây xanh hiện có trong thành phố để trồng chỉ một loại cây mới. Nhiệm vụ được giao cho Công ty Cây xanh thành phố. Do hạn chế về thiết bị Công ty chỉ tổ chức được 2 đội đốn hạ cây. Đội I hạ được $a$ cây mỗi ngày, nhưng cứ mối ngày thứ $k$ thì phải nghỉ để bảo dưỡng kỹ thuật, tức là đội I sẽ nghỉ vào các ngày $k,\\ 2k,\\ 3k,\\ldots$ Đội II hạ được $b$ cây mỗi ngày, nhưng cứ mỗi ngày thứ $m$ thì phải nghỉ để bảo dưỡng kỹ thuật, tức là đội II sẽ nghỉ vào các ngày $m,\\ 2m,\\ 3m,\\ldots$ Ở ngày nghỉ, số cây chặt hạ của đội sẽ là 0. Cả hai đội bắt đầu công việc vào cùng một ngày và làm việc song song với nhau.\n",
        "\n",
        "**Dữ liệu**: \n",
        "\n",
        "> Vào từ thiết bị nhập chuẩn gồm một dòng chứa 5 số nguyên $a,\\ k,\\ b,\\ m$ và $n$ $(1 \\leq a,\\ b \\leq 10^{9},\\ 2 \\leq k,\\ m \\leq 10^{18},\\ 1 \\leq n \\leq 10^{18})$.\n",
        "\n",
        "**Kết quả**:\n",
        "> Đưa ra thiết bị xuất chuẩn một số nguyên – số ngày tính được.\n",
        "\n",
        "**Dữ liệu mẫu**:\n",
        "\n",
        "\\begin{array}{|c|c|}\n",
        "Input&Output\\\\ \\hline\n",
        "2\\ 4\\ 3\\ 3\\ 25 & 7\n",
        "\\end{array}\n"
      ]
    },
    {
      "cell_type": "markdown",
      "metadata": {
        "id": "2wR_7YIvABMK"
      },
      "source": [
        "# **Computational Thinking**"
      ]
    },
    {
      "cell_type": "markdown",
      "metadata": {
        "id": "_blnmeyPBj0f"
      },
      "source": [
        ">**Abstraction (Trừu tượng hóa)**\n",
        ">> Mỗi đơn vị thời gian, đại lượng $x$ và $y$ tăng lần lượt $a$ và $b$ đơn vị, cứ mỗi $k$ và $m$ đơn vị thời gian, đại lượng $x$ và $y$ giảm lần lượt $a$ và $b$ đơn vị, sau ít nhất bao nhiêu đơn vị thời gian thì $x+y \\geq n$?"
      ]
    },
    {
      "cell_type": "markdown",
      "metadata": {
        "id": "0cankz3CH2KQ"
      },
      "source": [
        "> **Decomposision (Phân rã)**\n",
        ">> Đối với bài toán này ta phải giải quyết 2 bài toán con:\n",
        ">> - Gọi $t$ là thời điểm cần tìm.\n",
        ">> - Chưa xét đến việc giảm đại lượng sau chu kỳ $k$ và $m$, tổng $S = t\\times(a+b)$.\n",
        ">> - Tại thời điểm $t$, tổng đại lượng bị giảm là $T = a\\lfloor \\frac{t}{k} \\rfloor + b\\lfloor \\frac{t}{m} \\rfloor$.\n",
        ">> - Vậy tại thời điểm $t$, ta có $x+y = S - T = t\\times(a+b) - a\\lfloor \\frac{t}{k} \\rfloor - b\\lfloor \\frac{t}{m} \\rfloor$.\n",
        ">> - Cần tìm nghiệm nguyên nhỏ nhất cho hệ phương trình $t\\times(a+b) - a\\lfloor \\frac{t}{k} \\rfloor - b\\lfloor \\frac{t}{m} \\rfloor \\geq n$."
      ]
    },
    {
      "cell_type": "markdown",
      "metadata": {
        "id": "sxjua5V1JA6O"
      },
      "source": [
        "> **Pattern recognition (Tìm quy luật)**\n",
        ">> Nhận thấy hàm số rời rạc $f(t) = t\\times(a+b) - a\\lfloor \\frac{t}{k} \\rfloor - b\\lfloor \\frac{t}{m} \\rfloor$ luôn đồng biến $\\forall \\; t \\in \\mathbb{Z}$.\n",
        "Với $\\lfloor x \\rfloor$ là phần nguyên của $x$.\n",
        "\n",
        ">> $\\Rightarrow$ Có thể áp dụng thuật toán tìm kiếm nhị phân để tìm nghiệm nguyên $t$ nhỏ nhất thỏa mãn $f(t) \\geq n$.\n"
      ]
    },
    {
      "cell_type": "markdown",
      "metadata": {
        "id": "3fUgyo5eTaTk"
      },
      "source": [
        "> **Algorithmic Thinking (trình bày giải thuật)**\n",
        ">> -[Trình bày giải thuật bằng python 3](https://github.com/khanh-moriaty/CS112.L11.KHTN/blob/master/week4/code/doi_moi.py)\n"
      ]
    }
  ]
}