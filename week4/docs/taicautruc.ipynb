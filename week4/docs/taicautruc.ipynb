{
  "nbformat": 4,
  "nbformat_minor": 0,
  "metadata": {
    "colab": {
      "name": "taicautruc.ipynb",
      "provenance": [],
      "collapsed_sections": []
    },
    "kernelspec": {
      "name": "python3",
      "display_name": "Python 3"
    }
  },
  "cells": [
    {
      "cell_type": "markdown",
      "metadata": {
        "id": "5q9PGaZu-Yty"
      },
      "source": [
        "\n",
        "# **Team N008**\n",
        "\n",
        "# **Nguyễn Minh Huy**\n",
        "\n",
        "# **19520109**\n",
        "\n",
        "# **Hồ Chung Đức Khánh** \n",
        "\n",
        "# **19520084**\n",
        "\n",
        "# **Võ Minh Hiếu**\n",
        "\n",
        "# **19520624** "
      ]
    },
    {
      "cell_type": "markdown",
      "metadata": {
        "id": "dEkym2jJ4-UR"
      },
      "source": [
        "# TÁI CẤU TRÚC (1s, 100MB)\n",
        "**Đề bài**\n",
        "Sau thời gian làm việc tại nhà (work from home) do tình hình dịch bệnh, công ty X nhận thấy đây là cơ hội để thay đổi mô hình làm việc của công ty để hướng tới tính đơn giản, hiệu quả cao hơn trong công việc. Cụ thể, công ty hiện tại gồm **n** nhân viên. Có **m** quan hệ dạng ($a_i$, $b_i$) trong đó người bi nhận công việc từ người $a_i$ và $a_i$ chỉ đạo cho $b_i$. Mỗi nhân viên khi nhận việc có thể phân công cho những nhân viên do mình chỉ đạo. Nếu công viêc từ $a$ có thể tới được $b$, ta gọi $a$ là cấp trên của $b$ và $b$ là cấp dưới của $a$.\n",
        "\n",
        "Sau khi họp đại hội cổ đông trực tuyến, công ty X quyết định thực hiện tái cấu trúc như sau:\n",
        "\n",
        "Thứ nhất, chọn ra một giám đốc, người này phải là người không có cấp trên và công việc mà người này phân công có thể tới được mọi người trong công ty;\n",
        "Những người còn lại, mỗi người sẽ chỉ còn nhận việc trực tiếp từ đúng 1 người. Để tránh xáo trộn trong hoạt động sau khi thực hiện thay đổi, với mỗi người, tập những người là cấp trên của người đó phải không thay đổi (so với trước khi thực hiện tái cấu trúc).\n",
        "Yêu cầu: Xác định công ty X có thể tái cấu trúc hay không, nếu không được - đưa ra thông báo “No”. Trong trường hợp có thể – đưa ra thông báo “Yes” và chỉ ra dãy số $p_i$ xác định người có quyền phân công công việc cho người i ($1 \\leq i \\leq n$). Với Giám đốc $p_i$ tương ứng có giá trị là -1.\n",
        "\n",
        "Dữ liệu: Vào từ file thiết bị nhập chuẩn:\n",
        "\n",
        "Dòng đầu tiên chứa 2 số nguyên $n$ và $m$ ($1 \\leq n, m \\leq 5×10^5$),\n",
        "Dòng thứ i trong $m$ dòng sau chứa 2 số nguyên $a_i$ và b_i ($1 \\leq a_i, b_i \\leq n, a_i \\neq b_i$).\n",
        "Kết quả: Đưa ra thiết bị xuất chuẩn thông báo “No” hoặc “Yes”. Nếu kết quả là “Yes” – trên dòng thứ 2 đưa ra n số nguyên $p_1, p_2, . . ., p_n$ tương ứng.\n",
        "**Dữ liệu mẫu**:\n",
        "\n",
        "\\begin{array}{|c|c|}\n",
        "Input&Output\\\\ \\hline\n",
        "3\\;3&Yes\\\\\n",
        "1\\;2&-1\\;1\\;2\\\\\n",
        "2\\;3\\\\\n",
        "1\\;3 \n",
        "\\end{array}\n"
      ]
    },
    {
      "cell_type": "markdown",
      "metadata": {
        "id": "2wR_7YIvABMK"
      },
      "source": [
        "# **Computational Thinking**"
      ]
    },
    {
      "cell_type": "markdown",
      "metadata": {
        "id": "_blnmeyPBj0f"
      },
      "source": [
        ">**Abstraction (Trừu tượng hóa)**\n",
        ">> Cho một đồ thị có hướng $G = (V,A)$ với N đỉnh và M cạnh, tìm cách bỏ một số \n",
        "cạnh của đồ thị đã cho để được đúng 1 cây $T$ sao cho với mọi $i,j \\in G$ nếu $i$ là tổ tiên của $j$ thì trong $T$, $i$ cũng là tổ tiên của $j$."
      ]
    },
    {
      "cell_type": "markdown",
      "metadata": {
        "id": "0cankz3CH2KQ"
      },
      "source": [
        "> **Decomposision (Phân rã)**\n",
        ">> Đối với bài toán này ta phải giải quyết 2 bài toán con:\n",
        ">> - > Tìm 1 cây bất kì trong đồ thị\n",
        ">> - > Xét xem cây đã thỏa điều kiện đề bài chưa"
      ]
    },
    {
      "cell_type": "markdown",
      "metadata": {
        "id": "sxjua5V1JA6O"
      },
      "source": [
        "> **Pattern recognition (Tìm quy luật)**\n",
        ">> DFS(Duyệt theo chiều sâu):\n",
        ">> - > Với một đỉnh $i (1 \\leq i \\leq N)$ trên đồ thị, xét Visited$[i]$ = 0 nghĩa là $i$ chưa được duyệt và ta sẽ tiến hành duyệt điểm $i$ theo chiều rộng.\n",
        ">> - > Khi một đỉnh $i$ được duyệt ta sẽ tìm được thành phần liên thông thứ **num_tplt** mà $i$ thuộc về và đếm số lượng đỉnh trong thành phần liên thông đó và lưu lại trong **S[num_tplt]**. \n",
        ">> Xét cây:\n",
        ">> - > Xét tất cả những cạnh ($i,j$) không thuộc cây đã có được từ DFS, $LCA(i,j) \\neq i$ (Lowest Common Ancestor) thì xuất **No**, ngược lại xuất **Yes** và in ra cây đó.\n",
        "\n"
      ]
    },
    {
      "cell_type": "markdown",
      "metadata": {
        "id": "3fUgyo5eTaTk"
      },
      "source": [
        "> **Algorithmic Thinking (trình bày giải thuật)**\n",
        ">> -[Trình bày giải thuật bằng python 3](https://github.com/khanh-moriaty/CS112.L11.KHTN/blob/master/week4/code/taicautruc.py)\n"
      ]
    }
  ]
}