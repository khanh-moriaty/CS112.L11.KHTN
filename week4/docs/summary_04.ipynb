{
  "nbformat": 4,
  "nbformat_minor": 0,
  "metadata": {
    "kernelspec": {
      "display_name": "Python 3",
      "language": "python",
      "name": "python3"
    },
    "language_info": {
      "codemirror_mode": {
        "name": "ipython",
        "version": 2
      },
      "file_extension": ".py",
      "mimetype": "text/x-python",
      "name": "python",
      "nbconvert_exporter": "python",
      "pygments_lexer": "ipython2",
      "version": "2.7.6"
    },
    "colab": {
      "name": "summary_04.ipynb",
      "provenance": [],
      "collapsed_sections": []
    }
  },
  "cells": [
    {
      "cell_type": "markdown",
      "metadata": {
        "collapsed": false,
        "id": "9X430finLgLb"
      },
      "source": [
        "## **Tóm tắt bài giảng buổi học 1-10-2020**\n",
        "**Tóm tắt**\n",
        "- Thảo luận về làm việc nhóm\n",
        "- Giải bài tập **Đổi mới** và **Tái cấu trúc**\n",
        "- Thống nhất vấn đề bản quyền\n",
        "- Nhóm 7 thuyết trình trong 30p về sinh bộ test \n",
        "- Đặt hơn 3 chục câu hỏi \n",
        "\n",
        "**Ghi chú**\n",
        "- Teamwork phải hiểu ý nhau macro được việc làm của thành viên\n",
        "- Các nhóm phải đặt thêm câu hỏi và cùng nhau giải đáp\n",
        "- Kĩ thuật đặt câu hỏi\n",
        "\n",
        "**Thảo luận**\n",
        "- Cách đặt câu hỏi, tư duy câu hỏi.\n",
        "- Cách giải bài **Tái cấu trúc**\n"
      ]
    }
  ]
}