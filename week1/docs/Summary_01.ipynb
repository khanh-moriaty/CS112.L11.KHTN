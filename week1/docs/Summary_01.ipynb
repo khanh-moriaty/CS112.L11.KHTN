{
  "nbformat": 4,
  "nbformat_minor": 0,
  "metadata": {
    "colab": {
      "name": "Summary_01.ipynb",
      "provenance": [],
      "collapsed_sections": []
    },
    "kernelspec": {
      "name": "python3",
      "display_name": "Python 3"
    }
  },
  "cells": [
    {
      "cell_type": "markdown",
      "metadata": {
        "id": "2_86hABCYkIx"
      },
      "source": [
        "# TÓM TẮT, GHI CHÚ, THẢO LUẬN BUỔI HỌC `10-09-2020`"
      ]
    },
    {
      "cell_type": "markdown",
      "metadata": {
        "id": "EPyZtbiRZCv0"
      },
      "source": [
        "- Giới thiệu nội dung, mục tiêu, cách tính điểm của môn học.\n",
        "\n",
        "- Tư duy máy tính:\n",
        "  + **Abstraction (Trừu tượng hóa)**: Bài toán được đưa ra có thể được thể hiện bởi rất nhiều câu chữ và nhiều dữ kiện không liên quan. Vai trò của Abstraction là trừu tượng và đơn giản hóa bài toán bằng các câu từ dễ hiểu và rõ ràng hơn.\n",
        "  + **Decomposition (Phân rã)**: Đối với các bài toán phức tạp, chúng ta không thể giải quyết cả bài toán cùng lúc được mà đòi hỏi phải phân rã nó thành các bài toán con nhỏ hơn, từ đó bắt tay vào giải quyết từng bài toán nhỏ.\n",
        "  + **Pattern Recognition (Tìm quy luật)**: Trong quá trình giải quyết vấn đề đôi khi sẽ ẩn chứa các quy luật - những phép tính và công thức xuất hiện lặp đi lặp lại. Xác định được các quy luật này chính là chìa khóa then chốt để giải quyết vấn đề.\n",
        "  + **Algorithmic Thinking (Trình bày giải thuật)**: Sau khi xác định được giải pháp cho vấn đề, giải pháp đó có thể được sử dụng lại nhiều lần cho các vấn đề tương tự. Bước cuối cùng khi giải quyết một vấn đề theo hướng Tư duy máy tính đó là tìm cách biểu diễn các thuật toán hay lời giải dưới dạng các câu lệnh để máy tính có thể hiểu được và có thể thực thi lại một cách dễ dàng hiệu quả\n",
        "\n",
        "- Chia nhóm.\n",
        "- Cách sắp xếp bàn ghế học tập cho hiệu quả.\n",
        "- Giải đáp câu hỏi của sinh viên.\n",
        "- Thảo luận giải thuật cho bài toán BOT."
      ]
    }
  ]
}