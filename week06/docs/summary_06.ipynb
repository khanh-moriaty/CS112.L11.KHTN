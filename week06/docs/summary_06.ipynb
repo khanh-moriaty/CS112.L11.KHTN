{
  "nbformat": 4,
  "nbformat_minor": 0,
  "metadata": {
    "kernelspec": {
      "display_name": "Python 3",
      "language": "python",
      "name": "python3"
    },
    "language_info": {
      "codemirror_mode": {
        "name": "ipython",
        "version": 2
      },
      "file_extension": ".py",
      "mimetype": "text/x-python",
      "name": "python",
      "nbconvert_exporter": "python",
      "pygments_lexer": "ipython2",
      "version": "2.7.6"
    },
    "colab": {
      "name": "summary_04.ipynb",
      "provenance": [],
      "collapsed_sections": []
    }
  },
  "cells": [
    {
      "cell_type": "markdown",
      "metadata": {
        "collapsed": false,
        "id": "9X430finLgLb"
      },
      "source": [
        "## **Tóm tắt bài giảng buổi học 15-10-2020**\n",
        "**Tóm tắt**\n",
        "- Nhóm báo cáo seminar tuần này xin vắng để tham gia một cuộc thi.\n",
        "- Cả lớp thống nhất sử dụng buổi học để cùng nhau giải quyết bài tập wecode tuần này và cả bài tập dang dở của tuần trước (cyclick_isomorphism).\n"
      ]
    }
  ]
}