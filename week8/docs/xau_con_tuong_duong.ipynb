{
 "cells": [
  {
   "cell_type": "markdown",
   "metadata": {},
   "source": [
    "\n",
    "# **Team N008**\n",
    "\n",
    "# **Nguyễn Minh Huy**\n",
    "\n",
    "# **19520109**\n",
    "\n",
    "# **Hồ Chung Đức Khánh** \n",
    "\n",
    "# **19520624**\n",
    "\n",
    "# **Võ Minh Hiếu**\n",
    "\n",
    "# **19520084** "
   ]
  },
  {
   "cell_type": "markdown",
   "metadata": {},
   "source": [
    "# XÂU CON TƯƠNG ĐƯƠNG (1s, 50M)\n",
    "**Đề bài**\n",
    "\n",
    "> Cho xâu **s** chỉ chứa các ký tự la tinh thường độ dài **n** không quá $10^5$. Ký hiệu $s[i..j]$ là xâu con các ký tự liên tiếp nhau của **s** từ vị trí **i** đến vị trí **j**. Hai xâu con **x** = $s[a..b]$ và **y** = $s[c..d]$ được gọi là cùng một lớp tương đương nếu có cách đổi chỗ các ký tự trong một xâu để nhận được xâu kia. Các vị trí được đánh số từ 1 trở đi.\n",
    "\n",
    "> Ví dụ với **s** = “abcbacaac”, $s[1..3]$ tương đương với $s[4..6]$, còn $s[1..3]$ không tương đương với $s[5..7]$.\n",
    "\n",
    "> Cho **q** truy vấn, mỗi truy vấn là 4 số nguyên **a, b, c, d** xác định các xâu con **x** và **y**. Với mỗi truy vấn hãy xác định hai xâu con này có cùng một lớp tương đương hay không và đưa ra câu trả lời tương ứng _“YES”_ hoặc _“NO”_.\n",
    "\n",
    "**Dữ liệu:** \n",
    "\n",
    "> Vào từ thiết bị nhập chuẩn:\n",
    "\n",
    ">> - Dòng đầu tiên chứa xâu **s**,\n",
    "\n",
    ">> - Dòng thứ 2 chứa số nguyên **q** (1 ≤  **q**  ≤ $10^5$),\n",
    "\n",
    ">> - Mỗi dòng trong **q** dòng tiếp theo chứa 4 số nguyên **a, b, c, d** (1 ≤ **a** ≤ **b** ≤ **n**, 1 ≤ **c** ≤ **d** ≤ **n**).\n",
    "\n",
    "**Kết quả:** \n",
    "\n",
    ">  Đưa ra thiết bị xuất chuẩn các câu trả lời xác định được cho mỗi truy vấn, mỗi câu trả lời trên một dòng.\n",
    "\n",
    "**Dữ liệu mẫu**:\n",
    "\n",
    "\\begin{array}{|c|c|}\n",
    "Input&Output\\\\ \\hline\n",
    "abcbacaac & YES\\\\\n",
    "2 & NO\\\\\n",
    "1\\;3\\;4\\;6 & \\\\\n",
    "1\\;3\\;5\\;7 & \\\\\n",
    "\\end{array}\n"
   ]
  },
  {
   "cell_type": "markdown",
   "metadata": {},
   "source": [
    "# **Computational Thinking**"
   ]
  },
  {
   "cell_type": "markdown",
   "metadata": {},
   "source": [
    ">**Abstraction (Trừu tượng hóa)**\n",
    ">> Cho sâu **s** và **q** truy vấn, trong đó mỗi truy vấn gồm 2 sâu con có độ dài bằng nhau lấy từ sâu **s**, xác định đầu ra từng truy vấn: là YES nếu tồn tại hoán vị các kí tự của xâu X là xâu Y, NO nếu ngược lại "
   ]
  },
  {
   "cell_type": "markdown",
   "metadata": {},
   "source": [
    "> **Decomposision**\n",
    ">> Để kiểm tra xâu X có là xâu con của Y hay không ta chỉ cần xét xem tất cả các kí tự xuất hiện trong xâu A, mỗi kí có xuất hiện trong xâu B với cùng số lượng mà chúng xuất hiện trong A hay không"
   ]
  },
  {
   "cell_type": "markdown",
   "metadata": {},
   "source": [
    "> **Pattern Recognition**\n",
    ">> Với bài toán quen thuộc này ta nghĩ ngay đến HASH:\n",
    ">> * Để đơn giản, giả sử rằng $\\displaystyle \\sum$=a,b,…,z (nói cách khác, $\\displaystyle \\sum$ chỉ gồm các chữ cái in thường). Để biểu diễn một xâu, thay vì dùng chữ cái, chúng ta sẽ chuyển sang biểu diễn dạng số. Ví dụ: xâu aczd được viết dưới dạng số là một số: $26^1 + 26^3 + 26^26 + 26^4$ . Như vậy, một xâu được biểu diễn dưới dạng một số ở hệ cơ số **base** với **base**>26. Từ đây suy ra, 2 xâu tương đương khi và chỉ khi biểu diễn của 2 xâu ở hệ cơ số **base** giống nhau.\n",
    "\n",
    ">> * Đây chính là tư tưởng của thuật toán: đổi 2 xâu từ hệ cơ số **base**, rồi đem so sánh. Tuy nhiên, chúng ta nhận thấy rằng, khi đổi 1 xâu ra biểu diễn ở hệ cơ số **base**, biểu diễn này có thể rất lớn và nằm ngoài phạm vi lưu trữ số nguyên của máy tính.\n",
    "\n",
    ">> * Để khắc phục điều này, chúng ta chuyển sang so sánh 2 biểu diễn của 2 xâu ở hệ cơ số 10 sau khi lấy phần dư cho một số nguyên đủ lớn. Cụ thể hơn: nếu biểu diễn trong cơ số **base** của xâu a là x và biểu diễn trong cơ số **base** của xâu b là y, chúng ta sẽ coi a tương đương b ‘khi và chỉ khi’ **x mod MOD** = **y mod MOD** trong đó **MOD** là một số nguyên đủ lớn (nếu giải thuật python có thể bỏ qua bước này vì python cho phép tính toán số lớn)\n",
    "\n",
    ">> * Để cài đặt ý tưởng này, chúng ta cần khởi tạo **base^x mod MOD** với **$(0 \\leq x \\leq base)$** và mã Hash của tất cả những tiền tố của s, cụ thể là mã Hash của những xâu $s[1..i]$ với $(1 \\leq i \\leq m)$.\n",
    "\n",
    ">> * Bài toán quy về bài toán BOT quen thuộc của chúng ta so sánh 2 tổng của 1 đoạn có bằng nhau hay không dựa vào mảng tổng tiền tố."
   ]
  },
  {
   "cell_type": "markdown",
   "metadata": {},
   "source": [
    "> **Algorithmic Thinking**\n",
    ">> -[Trình bày giải thuật bằng python 3](https://github.com/khanh-moriaty/CS112.L11.KHTN/blob/master/week8/code/xau_con_tuong_duong.py)\n"
   ]
  }
 ],
 "metadata": {
  "kernelspec": {
   "display_name": "Python 3",
   "language": "python",
   "name": "python3"
  },
  "language_info": {
   "codemirror_mode": {
    "name": "ipython",
    "version": 3
   },
   "file_extension": ".py",
   "mimetype": "text/x-python",
   "name": "python",
   "nbconvert_exporter": "python",
   "pygments_lexer": "ipython3",
   "version": "3.8.2"
  }
 },
 "nbformat": 4,
 "nbformat_minor": 4
}