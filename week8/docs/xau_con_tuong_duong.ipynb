{
 "cells": [
  {
   "cell_type": "markdown",
   "metadata": {},
   "source": [
    "\n",
    "# **Team N008**\n",
    "\n",
    "# **Nguyễn Minh Huy**\n",
    "\n",
    "# **19520109**\n",
    "\n",
    "# **Hồ Chung Đức Khánh** \n",
    "\n",
    "# **19520624**\n",
    "\n",
    "# **Võ Minh Hiếu**\n",
    "\n",
    "# **19520084** "
   ]
  },
  {
   "cell_type": "markdown",
   "metadata": {},
   "source": [
    "# XÂU CON TƯƠNG ĐƯƠNG (1s, 50M)\n",
    "**Đề bài**\n",
    "\n",
    "> Cho xâu **s** chỉ chứa các ký tự la tinh thường độ dài **n** không quá $10^5$. Ký hiệu **s[i..j]** là xâu con các ký tự liên tiếp nhau của **s** từ vị trí **i** đến vị trí **j**. Hai xâu con **x** = **s[a..b]** và **y** = **s[c..d]** được gọi là cùng một lớp tương đương nếu có cách đổi chỗ các ký tự trong một xâu để nhận được xâu kia. Các vị trí được đánh số từ 1 trở đi.\n",
    "\n",
    "> Ví dụ với **s** = “abcbacaac”, **s[1..3]** tương đương với **s[4..6]**, còn **s[1..3]** không tương đương với **s[5..7]**.\n",
    "\n",
    "> Cho **q** truy vấn, mỗi truy vấn là 4 số nguyên **a, b, c, d** xác định các xâu con **x** và **y**. Với mỗi truy vấn hãy xác định hai xâu con này có cùng một lớp tương đương hay không và đưa ra câu trả lời tương ứng _“YES”_ hoặc _“NO”_.\n",
    "\n",
    "**Dữ liệu:** \n",
    "\n",
    "> Vào từ thiết bị nhập chuẩn:\n",
    "\n",
    ">> - Dòng đầu tiên chứa xâu **s**,\n",
    "\n",
    ">> - Dòng thứ 2 chứa số nguyên **q** (1 ≤  **q**  ≤ $10^5$),\n",
    "\n",
    ">> - Mỗi dòng trong **q** dòng tiếp theo chứa 4 số nguyên **a, b, c, d** (1 ≤ **a** ≤ **b** ≤ **n**, 1 ≤ **c** ≤ **d** ≤ **n**).\n",
    "\n",
    "**Kết quả:** \n",
    "\n",
    ">  Đưa ra thiết bị xuất chuẩn các câu trả lời xác định được cho mỗi truy vấn, mỗi câu trả lời trên một dòng.\n",
    "\n",
    "**Dữ liệu mẫu**:\n",
    "\n",
    "\\begin{array}{|c|c|}\n",
    "Input&Output\\\\ \\hline\n",
    "abcbacaac & YES\\\\\n",
    "2 & NO\\\\\n",
    "1\\;3\\;4\\;6 & \\\\\n",
    "1\\;3\\;5\\;7 & \\\\\n",
    "\\end{array}\n"
   ]
  },
  {
   "cell_type": "markdown",
   "metadata": {},
   "source": [
    "# **Computational Thinking**"
   ]
  },
  {
   "cell_type": "markdown",
   "metadata": {},
   "source": [
    ">**Abstraction (Trừu tượng hóa)**\n",
    ">> Cho sâu **s** và **q** truy vấn, trong đó mỗi truy vấn gồm 2 sâu con có độ dài bằng nhau lấy từ sâu **s**, xác định đầu ra từng truy vấn: là YES nếu tồn tại hoán vị các kí tự của sâu 1 là sâu 2, NO nếu ngược lại "
   ]
  },
  {
   "cell_type": "markdown",
   "metadata": {},
   "source": [
    "> **Decomposision**\n",
    ">> Nếu chúng ta có một tập hợp $A$ chứa các cặp 2 ký tự liên tiếp của $t$ thì đáp án bài toán là số cặp 2 ký tự liên tiếp trong $s$ có trong tập hợp $A$."
   ]
  },
  {
   "cell_type": "markdown",
   "metadata": {},
   "source": [
    "> **Pattern Recognition**\n",
    ">> Một tập hợp có thể được biểu diễn bằng cây tìm kiếm nhị phân cân bằng, hoặc cũng có thể được biểu diễn bằng cấu trúc dữ liệu set trong python."
   ]
  },
  {
   "cell_type": "markdown",
   "metadata": {},
   "source": [
    "> **Algorithmic Thinking**\n",
    ">> -[Trình bày giải thuật bằng python 3](https://github.com/khanh-moriaty/CS112.L11.KHTN/blob/master/week8/code/xau_con_tuong_duong.py)\n"
   ]
  }
 ],
 "metadata": {
  "kernelspec": {
   "display_name": "Python 3",
   "language": "python",
   "name": "python3"
  },
  "language_info": {
   "codemirror_mode": {
    "name": "ipython",
    "version": 3
   },
   "file_extension": ".py",
   "mimetype": "text/x-python",
   "name": "python",
   "nbconvert_exporter": "python",
   "pygments_lexer": "ipython3",
   "version": "3.8.2"
  }
 },
 "nbformat": 4,
 "nbformat_minor": 4
}