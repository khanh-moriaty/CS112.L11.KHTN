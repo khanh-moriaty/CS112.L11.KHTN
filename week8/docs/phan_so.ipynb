{
  "nbformat": 4,
  "nbformat_minor": 0,
  "metadata": {
    "colab": {
      "name": "taicautruc.ipynb",
      "provenance": [],
      "collapsed_sections": []
    },
    "kernelspec": {
      "name": "python3",
      "display_name": "Python 3"
    }
  },
  "cells": [
    {
      "cell_type": "markdown",
      "metadata": {
        "id": "5q9PGaZu-Yty"
      },
      "source": [
        "\n",
        "# **Team N008**\n",
        "\n",
        "# **Nguyễn Minh Huy**\n",
        "\n",
        "# **19520109**\n",
        "\n",
        "# **Hồ Chung Đức Khánh** \n",
        "\n",
        "# **19520084**\n",
        "\n",
        "# **Võ Minh Hiếu**\n",
        "\n",
        "# **19520624** "
      ]
    },
    {
      "cell_type": "markdown",
      "metadata": {
        "id": "dEkym2jJ4-UR"
      },
      "source": [
        "# Phân số\n",
        "**Đề bài**\n",
        "\n",
        "> Cho 2 phân số đúng và tối giản $a/b$ , $c/d$  . Mỗi phép biến đổi là tăng **a** và **b** lên 1, sau đó giản ước phân số nhận được.\n",
        "\n",
        "> Hãy xác định sau bao nhiêu bước biến đổi từ phân số thứ nhất ban đầu nhận được phân số thứ 2 đã cho.\n",
        "\n",
        "**Dữ liệu:** \n",
        "\n",
        "> Vào từ thiết bị nhập chuẩn gồm 4 dòng, mỗi dòng chứa 1 số nguyên **a, b, c, d**, <br>0 < **a** < **b** ≤105, 0 < **c** < **d** ≤ 105, **a** và **b** nguyên tố cùng nhau, **c** và **d** nguyên tố cùng nhau $a/b$ ≠$c/d$ \n",
        "\n",
        "**Kết quả:** \n",
        "\n",
        "> Đưa ra thiết bị xuất chuẩn số 0 nếu không có cách biến đổi hoặc một số nguyên – số lượng phép biến đổi.\n",
        "\n",
        "**Dữ liệu mẫu**:\n",
        "\n",
        "\\begin{array}{|c|c|}\n",
        "Input&Output\\\\ \\hline\n",
        "1\\;6\\;2\\;3\\ & 5\n",
        "\\end{array}\n"
      ]
    },
    {
      "cell_type": "markdown",
      "metadata": {
        "id": "2wR_7YIvABMK"
      },
      "source": [
        "# **Computational Thinking**"
      ]
    },
    {
      "cell_type": "markdown",
      "metadata": {
        "id": "_blnmeyPBj0f"
      },
      "source": [
        ">**Abstraction (Trừu tượng hóa)**\n",
        ">> Cho 2 phân số tối giản $a/b$ và $c/d$, mỗi bước tăng **a** và **b** thêm 1 đơn vị rồi tối giản phân số nhận được. Tìm số bước để đạt được phân số thứ 2"
      ]
    },
    {
      "cell_type": "markdown",
      "metadata": {
        "id": "0cankz3CH2KQ"
      },
      "source": [
        "> **Decomposision (Phân rã)**\n",
        ">> Bài toán này ta sẽ tiếp cận một cách đơn giản:\n",
        ">>> Cứ biến đổi tới khi nào nhận được phân số lớn hơn hoặc bằng phân số thứ hai thì dừng.\n"
      ]
    },
    {
      "cell_type": "markdown",
      "metadata": {
        "id": "sxjua5V1JA6O"
      },
      "source": [
        "> **Pattern recognition (Tìm quy luật)**\n",
        ">> Thực hiện vòng lập biến đổi phân số thứ nhất tới khi nhận được phân số lớn hơn hoặc bằng phân số thứ hai.<br>\n",
        ">> Ta xét xem phân số mới này có bằng phân số thứ hai hay không, nếu có ta sẽ xuất ra số bước chạy vòng lập trên.<br>\n",
        ">> Nếu điều kiện trên không thỏa, xuất ra giá trị -1 ( có nghĩa là không biến đổi được thành phân số thứ hai)\n"
      ]
    },
    {
      "cell_type": "markdown",
      "metadata": {
        "id": "3fUgyo5eTaTk"
      },
      "source": [
        "> **Algorithmic Thinking (trình bày giải thuật)**\n",
        ">> -[Trình bày giải thuật bằng python 3](https://github.com/khanh-moriaty/CS112.L11.KHTN/blob/master/week8/code/phan_so.py)\n"
      ]
    }
  ]
}